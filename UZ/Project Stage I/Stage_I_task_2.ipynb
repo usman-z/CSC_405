{
 "cells": [
  {
   "cell_type": "markdown",
   "id": "532bf3d7",
   "metadata": {},
   "source": [
    "# Report - Employment Dataset\n",
    "The employment dataset provides the level of employment and the earning potential by county."
   ]
  },
  {
   "cell_type": "markdown",
   "id": "f49982e1",
   "metadata": {},
   "source": [
    "## Lets examine the Employment dataset"
   ]
  },
  {
   "cell_type": "markdown",
   "id": "ee7c8e91",
   "metadata": {},
   "source": [
    "The Employment dataset for County Quarterly consists of 21 columns total, 16 of which are visible and remaining 5 are hidden."
   ]
  },
  {
   "cell_type": "markdown",
   "id": "5539705c",
   "metadata": {},
   "source": [
    "## Variable dictionary for the Employment dataset"
   ]
  },
  {
   "cell_type": "markdown",
   "id": "972cf79c",
   "metadata": {},
   "source": [
    "|    Name               | Definition| Data type | Possible values | Required? |\n",
    "|:---------------------:|:---------:|:---------:|:---------------:|:---------:|\n",
    "| Area Code             | a unique identifier for an Area | Integer   | 12021, 11001, 28067            | Yes       |\n",
    "| St                    | a unique identifier for a State | Integer   | 08, 12, NULL                    | No        |\n",
    "| Cnty                  | a unique identifier for a County | Integer   | 019, 067, NULL                   | No        |\n",
    "| Own                   | Ownership code | Integer   | 0, 2, 5                        | Yes       |\n",
    "| NAICS                 | Industry code (SuperSector) | Integer   | 10, 101, 1029                  | Yes       |\n",
    "| Year                  | 4-digit year | Integer   | 2023                           | Yes       |\n",
    "| Qtr                   | 1-character quarter   | Integer   | 1                              | Yes       |\n",
    "| Area Type             | Category of the given area. (State, County, Nation, etc.…) | String    | \"County\",  \"MSA\"               | Yes       |\n",
    "| St Name               | State name | String    | \"Alabama\", \"Arkansas\", NULL      | No        |\n",
    "| Area                  |  Area title associated with area's FIPS code| String    | \"Walker County, Alabama\", \"Pope County, Arkansas\"   | Yes       |\n",
    "| Ownership             | Ownership title associated with the ownership code| String    | \"Private\", \"Total Covered\", \"State Government\"      | Yes       |\n",
    "| Industry              | Industry title associated with the industry code| String    | \"10 total, 11 industires\", \"1013 Construction\"      | Yes       |\n",
    "| Status Code           | Status code, or disclosure code ('N' for not disclosed)| String    | \"N\", NULL                    | No        |\n",
    "| Establishment Count   | Quarterly establishment| Integer   | 23, 84, 690              | Yes       |\n",
    "| January Employment    | Employment level | Integer   | 61, 1517, 6454           | Yes       |\n",
    "| February Employment   | Employment level | Integer   | 110, 1315, 2408          | Yes       |\n",
    "| March Employment      | Employment level | Integer   | 26, 1841, 3319           | Yes       |\n",
    "| Total Quarterly Wages | Total quarterly wage| Integer   | 1,645,881, 7,616,125, 35,843,858| Yes       |\n",
    "| Average Weekly Wage   | Average weekly wage| Integer   | 787, 1098, 1731          | Yes       |\n",
    "| Employment Location   | Employment Location Quotient Relative to U.S| Float     | 0.35, 1.11, 2.66         | Yes       |\n",
    "| Total Wage Location   | Total Wage Location Quotient Relative to U.S| Float     | 0.52, 1.00, 2.73         | Yes       |"
   ]
  },
  {
   "cell_type": "markdown",
   "id": "ff6794b7",
   "metadata": {},
   "source": [
    "## How can we merge the data with the primary COVID-19 dataset with the Employment dataset?"
   ]
  },
  {
   "cell_type": "markdown",
   "id": "7bf59859",
   "metadata": {},
   "source": [
    "The COVID-19 dataset conatins the County Name column, and the Employment dataset has an Area column in the format of County, State. Hence, we will use the County Name to merge the COVID-19 dataset with the Employment dataset."
   ]
  },
  {
   "cell_type": "markdown",
   "id": "86e68bb2",
   "metadata": {},
   "source": [
    "## How can the Employment dataset help analyze the spread of COVID-19?"
   ]
  },
  {
   "cell_type": "markdown",
   "id": "bcf6167b",
   "metadata": {},
   "source": [
    "Using the Employment dataset and the COVID-19 data, we can effectively show the realtionship between the spread of COVID due to High employment rates.  \n",
    "__Hypothesis__: Counties with High employments experienced faster spread of COVID-19."
   ]
  }
 ],
 "metadata": {
  "kernelspec": {
   "display_name": "Python 3 (ipykernel)",
   "language": "python",
   "name": "python3"
  },
  "language_info": {
   "codemirror_mode": {
    "name": "ipython",
    "version": 3
   },
   "file_extension": ".py",
   "mimetype": "text/x-python",
   "name": "python",
   "nbconvert_exporter": "python",
   "pygments_lexer": "ipython3",
   "version": "3.11.4"
  }
 },
 "nbformat": 4,
 "nbformat_minor": 5
}
