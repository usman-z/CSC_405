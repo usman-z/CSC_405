{
 "cells": [
  {
   "cell_type": "markdown",
   "id": "7a48eb2b",
   "metadata": {},
   "source": [
    "# Project Stage III"
   ]
  },
  {
   "cell_type": "markdown",
   "id": "84721286",
   "metadata": {},
   "source": [
    "### Import necessary dependencies"
   ]
  },
  {
   "cell_type": "code",
   "execution_count": 1,
   "id": "03c30688",
   "metadata": {},
   "outputs": [],
   "source": [
    "import pandas as pd\n",
    "import plotly.express as px\n",
    "from scipy import stats\n",
    "from scipy.stats import poisson\n",
    "import plotly.graph_objects as go\n",
    "from IPython.display import Image"
   ]
  },
  {
   "cell_type": "markdown",
   "id": "57e0d53a",
   "metadata": {},
   "source": [
    "# Graphically plot the distribution and describe the distribution statistics"
   ]
  },
  {
   "cell_type": "markdown",
   "id": "41350fb8",
   "metadata": {},
   "source": [
    "### North Carolina distribution"
   ]
  },
  {
   "cell_type": "code",
   "execution_count": 2,
   "id": "be6d53a5",
   "metadata": {},
   "outputs": [
    {
     "data": {
      "text/html": [
       "<div>\n",
       "<style scoped>\n",
       "    .dataframe tbody tr th:only-of-type {\n",
       "        vertical-align: middle;\n",
       "    }\n",
       "\n",
       "    .dataframe tbody tr th {\n",
       "        vertical-align: top;\n",
       "    }\n",
       "\n",
       "    .dataframe thead th {\n",
       "        text-align: right;\n",
       "    }\n",
       "</style>\n",
       "<table border=\"1\" class=\"dataframe\">\n",
       "  <thead>\n",
       "    <tr style=\"text-align: right;\">\n",
       "      <th></th>\n",
       "      <th>countyFIPS</th>\n",
       "      <th>County Name</th>\n",
       "      <th>State</th>\n",
       "      <th>StateFIPS</th>\n",
       "      <th>2020-01-22</th>\n",
       "      <th>2020-01-23</th>\n",
       "      <th>2020-01-24</th>\n",
       "      <th>2020-01-25</th>\n",
       "      <th>2020-01-26</th>\n",
       "      <th>2020-01-27</th>\n",
       "      <th>...</th>\n",
       "      <th>2023-07-14</th>\n",
       "      <th>2023-07-15</th>\n",
       "      <th>2023-07-16</th>\n",
       "      <th>2023-07-17</th>\n",
       "      <th>2023-07-18</th>\n",
       "      <th>2023-07-19</th>\n",
       "      <th>2023-07-20</th>\n",
       "      <th>2023-07-21</th>\n",
       "      <th>2023-07-22</th>\n",
       "      <th>2023-07-23</th>\n",
       "    </tr>\n",
       "  </thead>\n",
       "  <tbody>\n",
       "    <tr>\n",
       "      <th>0</th>\n",
       "      <td>0</td>\n",
       "      <td>Statewide Unallocated</td>\n",
       "      <td>AL</td>\n",
       "      <td>1</td>\n",
       "      <td>0</td>\n",
       "      <td>0</td>\n",
       "      <td>0</td>\n",
       "      <td>0</td>\n",
       "      <td>0</td>\n",
       "      <td>0</td>\n",
       "      <td>...</td>\n",
       "      <td>0</td>\n",
       "      <td>0</td>\n",
       "      <td>0</td>\n",
       "      <td>0</td>\n",
       "      <td>0</td>\n",
       "      <td>0</td>\n",
       "      <td>0</td>\n",
       "      <td>0</td>\n",
       "      <td>0</td>\n",
       "      <td>0</td>\n",
       "    </tr>\n",
       "    <tr>\n",
       "      <th>1</th>\n",
       "      <td>1001</td>\n",
       "      <td>Autauga County</td>\n",
       "      <td>AL</td>\n",
       "      <td>1</td>\n",
       "      <td>0</td>\n",
       "      <td>0</td>\n",
       "      <td>0</td>\n",
       "      <td>0</td>\n",
       "      <td>0</td>\n",
       "      <td>0</td>\n",
       "      <td>...</td>\n",
       "      <td>19913</td>\n",
       "      <td>19913</td>\n",
       "      <td>19913</td>\n",
       "      <td>19913</td>\n",
       "      <td>19913</td>\n",
       "      <td>19913</td>\n",
       "      <td>19913</td>\n",
       "      <td>19913</td>\n",
       "      <td>19913</td>\n",
       "      <td>19913</td>\n",
       "    </tr>\n",
       "    <tr>\n",
       "      <th>2</th>\n",
       "      <td>1003</td>\n",
       "      <td>Baldwin County</td>\n",
       "      <td>AL</td>\n",
       "      <td>1</td>\n",
       "      <td>0</td>\n",
       "      <td>0</td>\n",
       "      <td>0</td>\n",
       "      <td>0</td>\n",
       "      <td>0</td>\n",
       "      <td>0</td>\n",
       "      <td>...</td>\n",
       "      <td>70521</td>\n",
       "      <td>70521</td>\n",
       "      <td>70521</td>\n",
       "      <td>70521</td>\n",
       "      <td>70521</td>\n",
       "      <td>70521</td>\n",
       "      <td>70521</td>\n",
       "      <td>70521</td>\n",
       "      <td>70521</td>\n",
       "      <td>70521</td>\n",
       "    </tr>\n",
       "    <tr>\n",
       "      <th>3</th>\n",
       "      <td>1005</td>\n",
       "      <td>Barbour County</td>\n",
       "      <td>AL</td>\n",
       "      <td>1</td>\n",
       "      <td>0</td>\n",
       "      <td>0</td>\n",
       "      <td>0</td>\n",
       "      <td>0</td>\n",
       "      <td>0</td>\n",
       "      <td>0</td>\n",
       "      <td>...</td>\n",
       "      <td>7582</td>\n",
       "      <td>7582</td>\n",
       "      <td>7582</td>\n",
       "      <td>7582</td>\n",
       "      <td>7582</td>\n",
       "      <td>7582</td>\n",
       "      <td>7582</td>\n",
       "      <td>7582</td>\n",
       "      <td>7582</td>\n",
       "      <td>7582</td>\n",
       "    </tr>\n",
       "    <tr>\n",
       "      <th>4</th>\n",
       "      <td>1007</td>\n",
       "      <td>Bibb County</td>\n",
       "      <td>AL</td>\n",
       "      <td>1</td>\n",
       "      <td>0</td>\n",
       "      <td>0</td>\n",
       "      <td>0</td>\n",
       "      <td>0</td>\n",
       "      <td>0</td>\n",
       "      <td>0</td>\n",
       "      <td>...</td>\n",
       "      <td>8149</td>\n",
       "      <td>8149</td>\n",
       "      <td>8149</td>\n",
       "      <td>8149</td>\n",
       "      <td>8149</td>\n",
       "      <td>8149</td>\n",
       "      <td>8149</td>\n",
       "      <td>8149</td>\n",
       "      <td>8149</td>\n",
       "      <td>8149</td>\n",
       "    </tr>\n",
       "  </tbody>\n",
       "</table>\n",
       "<p>5 rows × 1269 columns</p>\n",
       "</div>"
      ],
      "text/plain": [
       "   countyFIPS            County Name State  StateFIPS  2020-01-22  2020-01-23  \\\n",
       "0           0  Statewide Unallocated    AL          1           0           0   \n",
       "1        1001        Autauga County     AL          1           0           0   \n",
       "2        1003        Baldwin County     AL          1           0           0   \n",
       "3        1005        Barbour County     AL          1           0           0   \n",
       "4        1007           Bibb County     AL          1           0           0   \n",
       "\n",
       "   2020-01-24  2020-01-25  2020-01-26  2020-01-27  ...  2023-07-14  \\\n",
       "0           0           0           0           0  ...           0   \n",
       "1           0           0           0           0  ...       19913   \n",
       "2           0           0           0           0  ...       70521   \n",
       "3           0           0           0           0  ...        7582   \n",
       "4           0           0           0           0  ...        8149   \n",
       "\n",
       "   2023-07-15  2023-07-16  2023-07-17  2023-07-18  2023-07-19  2023-07-20  \\\n",
       "0           0           0           0           0           0           0   \n",
       "1       19913       19913       19913       19913       19913       19913   \n",
       "2       70521       70521       70521       70521       70521       70521   \n",
       "3        7582        7582        7582        7582        7582        7582   \n",
       "4        8149        8149        8149        8149        8149        8149   \n",
       "\n",
       "   2023-07-21  2023-07-22  2023-07-23  \n",
       "0           0           0           0  \n",
       "1       19913       19913       19913  \n",
       "2       70521       70521       70521  \n",
       "3        7582        7582        7582  \n",
       "4        8149        8149        8149  \n",
       "\n",
       "[5 rows x 1269 columns]"
      ]
     },
     "execution_count": 2,
     "metadata": {},
     "output_type": "execute_result"
    }
   ],
   "source": [
    "cases = pd.read_csv('../../Team/covid_confirmed_usafacts.csv')\n",
    "cases.head()"
   ]
  },
  {
   "cell_type": "code",
   "execution_count": 3,
   "id": "a0a5cfc9",
   "metadata": {},
   "outputs": [
    {
     "data": {
      "text/html": [
       "<div>\n",
       "<style scoped>\n",
       "    .dataframe tbody tr th:only-of-type {\n",
       "        vertical-align: middle;\n",
       "    }\n",
       "\n",
       "    .dataframe tbody tr th {\n",
       "        vertical-align: top;\n",
       "    }\n",
       "\n",
       "    .dataframe thead th {\n",
       "        text-align: right;\n",
       "    }\n",
       "</style>\n",
       "<table border=\"1\" class=\"dataframe\">\n",
       "  <thead>\n",
       "    <tr style=\"text-align: right;\">\n",
       "      <th></th>\n",
       "      <th>2020-07-01</th>\n",
       "      <th>2020-07-02</th>\n",
       "      <th>2020-07-03</th>\n",
       "      <th>2020-07-04</th>\n",
       "      <th>2020-07-05</th>\n",
       "      <th>2020-07-06</th>\n",
       "      <th>2020-07-07</th>\n",
       "      <th>2020-07-08</th>\n",
       "      <th>2020-07-09</th>\n",
       "      <th>2020-07-10</th>\n",
       "      <th>...</th>\n",
       "      <th>2020-12-22</th>\n",
       "      <th>2020-12-23</th>\n",
       "      <th>2020-12-24</th>\n",
       "      <th>2020-12-25</th>\n",
       "      <th>2020-12-26</th>\n",
       "      <th>2020-12-27</th>\n",
       "      <th>2020-12-28</th>\n",
       "      <th>2020-12-29</th>\n",
       "      <th>2020-12-30</th>\n",
       "      <th>2020-12-31</th>\n",
       "    </tr>\n",
       "  </thead>\n",
       "  <tbody>\n",
       "    <tr>\n",
       "      <th>1923</th>\n",
       "      <td>3</td>\n",
       "      <td>3</td>\n",
       "      <td>3</td>\n",
       "      <td>0</td>\n",
       "      <td>0</td>\n",
       "      <td>0</td>\n",
       "      <td>0</td>\n",
       "      <td>0</td>\n",
       "      <td>0</td>\n",
       "      <td>1</td>\n",
       "      <td>...</td>\n",
       "      <td>0</td>\n",
       "      <td>0</td>\n",
       "      <td>0</td>\n",
       "      <td>0</td>\n",
       "      <td>0</td>\n",
       "      <td>0</td>\n",
       "      <td>2</td>\n",
       "      <td>1</td>\n",
       "      <td>38</td>\n",
       "      <td>82</td>\n",
       "    </tr>\n",
       "    <tr>\n",
       "      <th>1924</th>\n",
       "      <td>1151</td>\n",
       "      <td>1179</td>\n",
       "      <td>1207</td>\n",
       "      <td>1240</td>\n",
       "      <td>1274</td>\n",
       "      <td>1292</td>\n",
       "      <td>1309</td>\n",
       "      <td>1319</td>\n",
       "      <td>1357</td>\n",
       "      <td>1388</td>\n",
       "      <td>...</td>\n",
       "      <td>9509</td>\n",
       "      <td>9509</td>\n",
       "      <td>9509</td>\n",
       "      <td>9509</td>\n",
       "      <td>9509</td>\n",
       "      <td>9509</td>\n",
       "      <td>10120</td>\n",
       "      <td>10164</td>\n",
       "      <td>10274</td>\n",
       "      <td>10397</td>\n",
       "    </tr>\n",
       "    <tr>\n",
       "      <th>1925</th>\n",
       "      <td>93</td>\n",
       "      <td>101</td>\n",
       "      <td>105</td>\n",
       "      <td>112</td>\n",
       "      <td>118</td>\n",
       "      <td>124</td>\n",
       "      <td>134</td>\n",
       "      <td>138</td>\n",
       "      <td>140</td>\n",
       "      <td>149</td>\n",
       "      <td>...</td>\n",
       "      <td>2367</td>\n",
       "      <td>2367</td>\n",
       "      <td>2367</td>\n",
       "      <td>2367</td>\n",
       "      <td>2367</td>\n",
       "      <td>2367</td>\n",
       "      <td>2526</td>\n",
       "      <td>2564</td>\n",
       "      <td>2642</td>\n",
       "      <td>2662</td>\n",
       "    </tr>\n",
       "    <tr>\n",
       "      <th>1926</th>\n",
       "      <td>32</td>\n",
       "      <td>36</td>\n",
       "      <td>36</td>\n",
       "      <td>36</td>\n",
       "      <td>37</td>\n",
       "      <td>37</td>\n",
       "      <td>37</td>\n",
       "      <td>37</td>\n",
       "      <td>39</td>\n",
       "      <td>41</td>\n",
       "      <td>...</td>\n",
       "      <td>558</td>\n",
       "      <td>558</td>\n",
       "      <td>558</td>\n",
       "      <td>558</td>\n",
       "      <td>558</td>\n",
       "      <td>558</td>\n",
       "      <td>611</td>\n",
       "      <td>619</td>\n",
       "      <td>633</td>\n",
       "      <td>638</td>\n",
       "    </tr>\n",
       "    <tr>\n",
       "      <th>1927</th>\n",
       "      <td>132</td>\n",
       "      <td>138</td>\n",
       "      <td>142</td>\n",
       "      <td>148</td>\n",
       "      <td>149</td>\n",
       "      <td>155</td>\n",
       "      <td>162</td>\n",
       "      <td>171</td>\n",
       "      <td>176</td>\n",
       "      <td>182</td>\n",
       "      <td>...</td>\n",
       "      <td>1284</td>\n",
       "      <td>1284</td>\n",
       "      <td>1284</td>\n",
       "      <td>1284</td>\n",
       "      <td>1284</td>\n",
       "      <td>1284</td>\n",
       "      <td>1380</td>\n",
       "      <td>1383</td>\n",
       "      <td>1402</td>\n",
       "      <td>1407</td>\n",
       "    </tr>\n",
       "  </tbody>\n",
       "</table>\n",
       "<p>5 rows × 184 columns</p>\n",
       "</div>"
      ],
      "text/plain": [
       "      2020-07-01  2020-07-02  2020-07-03  2020-07-04  2020-07-05  2020-07-06  \\\n",
       "1923           3           3           3           0           0           0   \n",
       "1924        1151        1179        1207        1240        1274        1292   \n",
       "1925          93         101         105         112         118         124   \n",
       "1926          32          36          36          36          37          37   \n",
       "1927         132         138         142         148         149         155   \n",
       "\n",
       "      2020-07-07  2020-07-08  2020-07-09  2020-07-10  ...  2020-12-22  \\\n",
       "1923           0           0           0           1  ...           0   \n",
       "1924        1309        1319        1357        1388  ...        9509   \n",
       "1925         134         138         140         149  ...        2367   \n",
       "1926          37          37          39          41  ...         558   \n",
       "1927         162         171         176         182  ...        1284   \n",
       "\n",
       "      2020-12-23  2020-12-24  2020-12-25  2020-12-26  2020-12-27  2020-12-28  \\\n",
       "1923           0           0           0           0           0           2   \n",
       "1924        9509        9509        9509        9509        9509       10120   \n",
       "1925        2367        2367        2367        2367        2367        2526   \n",
       "1926         558         558         558         558         558         611   \n",
       "1927        1284        1284        1284        1284        1284        1380   \n",
       "\n",
       "      2020-12-29  2020-12-30  2020-12-31  \n",
       "1923           1          38          82  \n",
       "1924       10164       10274       10397  \n",
       "1925        2564        2642        2662  \n",
       "1926         619         633         638  \n",
       "1927        1383        1402        1407  \n",
       "\n",
       "[5 rows x 184 columns]"
      ]
     },
     "execution_count": 3,
     "metadata": {},
     "output_type": "execute_result"
    }
   ],
   "source": [
    "nc_cases = cases[cases[\"State\"] == \"NC\"]\n",
    "selected_date_columns = [col for col in nc_cases.columns if '2020-07-01' <= col <= '2020-12-31']\n",
    "nc_cases = nc_cases[selected_date_columns]\n",
    "nc_cases.head()"
   ]
  },
  {
   "cell_type": "code",
   "execution_count": 4,
   "id": "264b2c6c",
   "metadata": {},
   "outputs": [],
   "source": [
    "# July 1, 2020 is a Wednesday\n",
    "count = 6\n",
    "weekly_cases_nc = [] # where Wednesday from each week is chosen\n",
    "for col in nc_cases.columns:\n",
    "    count = count + 1\n",
    "    if count % 7 == 0:\n",
    "        weekly_cases_nc.append(nc_cases[col].sum())\n",
    "weekly_cases_nc_data = pd.Series(weekly_cases_nc)"
   ]
  },
  {
   "cell_type": "markdown",
   "id": "26f76fac",
   "metadata": {},
   "source": [
    "### Graphically plot the distribution and describe the distribution statistics"
   ]
  },
  {
   "cell_type": "code",
   "execution_count": 5,
   "id": "1f621be3",
   "metadata": {},
   "outputs": [
    {
     "data": {
      "text/plain": [
       "<Axes: >"
      ]
     },
     "execution_count": 5,
     "metadata": {},
     "output_type": "execute_result"
    },
    {
     "data": {
      "image/png": "[encoded data removed]",
      "text/plain": [
       "<Figure size 1000x600 with 1 Axes>"
      ]
     },
     "metadata": {},
     "output_type": "display_data"
    }
   ],
   "source": [
    "weekly_cases_nc_data.hist(bins=20, ec='black', figsize=(10, 6))"
   ]
  },
  {
   "cell_type": "markdown",
   "id": "0cf0cbdb",
   "metadata": {},
   "source": [
    "### Describe the type of distribution (modality) and its statistics (moments of a distribution - center, variance, skewness, kurtosis)"
   ]
  },
  {
   "cell_type": "code",
   "execution_count": 6,
   "id": "69b89e3d",
   "metadata": {},
   "outputs": [
    {
     "name": "stdout",
     "output_type": "stream",
     "text": [
      "The Mean is: 239380.59\n",
      "The Median is: 210629.00\n",
      "The Variance is: 16396212258.33\n",
      "The Skew is: 0.7593\n",
      "The Kurtosis is: -0.2102\n",
      "\n",
      " We have a Bimodal distribution\n"
     ]
    }
   ],
   "source": [
    "mean = weekly_cases_nc_data.mean()\n",
    "print(f\"The Mean is: {mean:.2f}\")\n",
    "\n",
    "median = weekly_cases_nc_data.median()\n",
    "print(f\"The Median is: {median:.2f}\")\n",
    "\n",
    "variance = weekly_cases_nc_data.var()\n",
    "print(f\"The Variance is: {variance:.2f}\")\n",
    "\n",
    "skew = weekly_cases_nc_data.skew()\n",
    "print(f\"The Skew is: {skew:.4f}\")\n",
    "\n",
    "kurtosis = weekly_cases_nc_data.kurt()\n",
    "print(f\"The Kurtosis is: {kurtosis:.4f}\")\n",
    "\n",
    "print(\"\\n We have a Bimodal distribution\")"
   ]
  },
  {
   "cell_type": "markdown",
   "id": "aeff8264",
   "metadata": {},
   "source": [
    "## Compare the North Carolina distribution and its statistics to 5 other states"
   ]
  },
  {
   "cell_type": "markdown",
   "id": "1a923b86",
   "metadata": {},
   "source": [
    "### New York distribution"
   ]
  },
  {
   "cell_type": "code",
   "execution_count": 7,
   "id": "3a876117",
   "metadata": {},
   "outputs": [
    {
     "data": {
      "text/plain": [
       "<Axes: >"
      ]
     },
     "execution_count": 7,
     "metadata": {},
     "output_type": "execute_result"
    },
    {
     "data": {
      "image/png": "[encoded data removed]",
      "text/plain": [
       "<Figure size 1000x600 with 1 Axes>"
      ]
     },
     "metadata": {},
     "output_type": "display_data"
    }
   ],
   "source": [
    "ny_cases = cases[cases[\"State\"] == \"NY\"]\n",
    "selected_date_columns = [col for col in ny_cases.columns if '2020-07-01' <= col <= '2020-12-31']\n",
    "ny_cases = ny_cases[selected_date_columns]\n",
    "\n",
    "count = 6\n",
    "weekly_cases_ny = []\n",
    "for col in ny_cases.columns:\n",
    "    count = count + 1\n",
    "    if count % 7 == 0:\n",
    "        weekly_cases_ny.append(ny_cases[col].sum())\n",
    "weekly_cases_ny_data = pd.Series(weekly_cases_ny)\n",
    "\n",
    "weekly_cases_ny_data.hist(bins=20, ec='black', figsize=(10, 6))"
   ]
  },
  {
   "cell_type": "code",
   "execution_count": 8,
   "id": "ddd115f6",
   "metadata": {},
   "outputs": [
    {
     "name": "stdout",
     "output_type": "stream",
     "text": [
      "The Mean is: 524891.04\n",
      "The Median is: 458718.00\n",
      "The Variance is: 23675112441.58\n",
      "The Skew is: 1.6414\n",
      "The Kurtosis is: 1.8822\n",
      "\n",
      " We have a Skewed right distribution\n"
     ]
    }
   ],
   "source": [
    "mean = weekly_cases_ny_data.mean()\n",
    "print(f\"The Mean is: {mean:.2f}\")\n",
    "\n",
    "median = weekly_cases_ny_data.median()\n",
    "print(f\"The Median is: {median:.2f}\")\n",
    "\n",
    "variance = weekly_cases_ny_data.var()\n",
    "print(f\"The Variance is: {variance:.2f}\")\n",
    "\n",
    "skew = weekly_cases_ny_data.skew()\n",
    "print(f\"The Skew is: {skew:.4f}\")\n",
    "\n",
    "kurtosis = weekly_cases_ny_data.kurt()\n",
    "print(f\"The Kurtosis is: {kurtosis:.4f}\")\n",
    "\n",
    "print(\"\\n We have a Skewed right distribution\")"
   ]
  },
  {
   "cell_type": "markdown",
   "id": "31520847",
   "metadata": {},
   "source": [
    "### New Jersey distribution"
   ]
  },
  {
   "cell_type": "code",
   "execution_count": 9,
   "id": "f3e09f5e",
   "metadata": {},
   "outputs": [
    {
     "data": {
      "text/plain": [
       "<Axes: >"
      ]
     },
     "execution_count": 9,
     "metadata": {},
     "output_type": "execute_result"
    },
    {
     "data": {
      "image/png": "[encoded data removed]",
      "text/plain": [
       "<Figure size 1000x600 with 1 Axes>"
      ]
     },
     "metadata": {},
     "output_type": "display_data"
    }
   ],
   "source": [
    "nj_cases = cases[cases[\"State\"] == \"NJ\"]\n",
    "selected_date_columns = [col for col in nj_cases.columns if '2020-07-01' <= col <= '2020-12-31']\n",
    "nj_cases = nj_cases[selected_date_columns]\n",
    "\n",
    "count = 6\n",
    "weekly_cases_nj = []\n",
    "for col in nj_cases.columns:\n",
    "    count = count + 1\n",
    "    if count % 7 == 0:\n",
    "        weekly_cases_nj.append(nj_cases[col].sum())\n",
    "weekly_cases_nj_data = pd.Series(weekly_cases_nj)\n",
    "\n",
    "weekly_cases_nj_data.hist(bins=20, ec='black', figsize=(10, 6))"
   ]
  },
  {
   "cell_type": "code",
   "execution_count": 10,
   "id": "a9092199",
   "metadata": {},
   "outputs": [
    {
     "name": "stdout",
     "output_type": "stream",
     "text": [
      "The Mean is: 249087.11\n",
      "The Median is: 205274.00\n",
      "The Variance is: 8903494118.49\n",
      "The Skew is: 1.5736\n",
      "The Kurtosis is: 1.6678\n",
      "\n",
      " We have a Skewed right distribution\n"
     ]
    }
   ],
   "source": [
    "mean = weekly_cases_nj_data.mean()\n",
    "print(f\"The Mean is: {mean:.2f}\")\n",
    "\n",
    "median = weekly_cases_nj_data.median()\n",
    "print(f\"The Median is: {median:.2f}\")\n",
    "\n",
    "variance = weekly_cases_nj_data.var()\n",
    "print(f\"The Variance is: {variance:.2f}\")\n",
    "\n",
    "skew = weekly_cases_nj_data.skew()\n",
    "print(f\"The Skew is: {skew:.4f}\")\n",
    "\n",
    "kurtosis = weekly_cases_nj_data.kurt()\n",
    "print(f\"The Kurtosis is: {kurtosis:.4f}\")\n",
    "\n",
    "print(\"\\n We have a Skewed right distribution\")"
   ]
  },
  {
   "cell_type": "markdown",
   "id": "2815e1e9",
   "metadata": {},
   "source": [
    "### California distribution"
   ]
  },
  {
   "cell_type": "code",
   "execution_count": 11,
   "id": "b86e8dba",
   "metadata": {},
   "outputs": [
    {
     "data": {
      "text/plain": [
       "<Axes: >"
      ]
     },
     "execution_count": 11,
     "metadata": {},
     "output_type": "execute_result"
    },
    {
     "data": {
      "image/png": "[encoded data removed]",
      "text/plain": [
       "<Figure size 1000x600 with 1 Axes>"
      ]
     },
     "metadata": {},
     "output_type": "display_data"
    }
   ],
   "source": [
    "ca_cases = cases[cases[\"State\"] == \"CA\"]\n",
    "selected_date_columns = [col for col in ca_cases.columns if '2020-07-01' <= col <= '2020-12-31']\n",
    "ca_cases = ca_cases[selected_date_columns]\n",
    "\n",
    "count = 6\n",
    "weekly_cases_ca = []\n",
    "for col in ca_cases.columns:\n",
    "    count = count + 1\n",
    "    if count % 7 == 0:\n",
    "        weekly_cases_ca.append(ca_cases[col].sum())\n",
    "weekly_cases_ca_data = pd.Series(weekly_cases_ca)\n",
    "\n",
    "weekly_cases_ca_data.hist(bins=20, ec='black', figsize=(10, 6))"
   ]
  },
  {
   "cell_type": "code",
   "execution_count": 12,
   "id": "27d6df3e",
   "metadata": {},
   "outputs": [
    {
     "name": "stdout",
     "output_type": "stream",
     "text": [
      "The Mean is: 973949.44\n",
      "The Median is: 834789.00\n",
      "The Variance is: 271986757653.56\n",
      "The Skew is: 1.4319\n",
      "The Kurtosis is: 1.7708\n",
      "\n",
      " We have a Skewed right distribution\n"
     ]
    }
   ],
   "source": [
    "mean = weekly_cases_ca_data.mean()\n",
    "print(f\"The Mean is: {mean:.2f}\")\n",
    "\n",
    "median = weekly_cases_ca_data.median()\n",
    "print(f\"The Median is: {median:.2f}\")\n",
    "\n",
    "variance = weekly_cases_ca_data.var()\n",
    "print(f\"The Variance is: {variance:.2f}\")\n",
    "\n",
    "skew = weekly_cases_ca_data.skew()\n",
    "print(f\"The Skew is: {skew:.4f}\")\n",
    "\n",
    "kurtosis = weekly_cases_ca_data.kurt()\n",
    "print(f\"The Kurtosis is: {kurtosis:.4f}\")\n",
    "\n",
    "print(\"\\n We have a Skewed right distribution\")"
   ]
  },
  {
   "cell_type": "markdown",
   "id": "8c51b031",
   "metadata": {},
   "source": [
    "### Texas distribution"
   ]
  },
  {
   "cell_type": "code",
   "execution_count": 13,
   "id": "6bef5454",
   "metadata": {},
   "outputs": [
    {
     "data": {
      "text/plain": [
       "<Axes: >"
      ]
     },
     "execution_count": 13,
     "metadata": {},
     "output_type": "execute_result"
    },
    {
     "data": {
      "image/png": "[encoded data removed]",
      "text/plain": [
       "<Figure size 1000x600 with 1 Axes>"
      ]
     },
     "metadata": {},
     "output_type": "display_data"
    }
   ],
   "source": [
    "tx_cases = cases[cases[\"State\"] == \"TX\"]\n",
    "selected_date_columns = [col for col in tx_cases.columns if '2020-07-01' <= col <= '2020-12-31']\n",
    "tx_cases = tx_cases[selected_date_columns]\n",
    "\n",
    "count = 6\n",
    "weekly_cases_tx = []\n",
    "for col in tx_cases.columns:\n",
    "    count = count + 1\n",
    "    if count % 7 == 0:\n",
    "        weekly_cases_tx.append(tx_cases[col].sum())\n",
    "weekly_cases_tx_data = pd.Series(weekly_cases_tx)\n",
    "\n",
    "weekly_cases_tx_data.hist(bins=20, ec='black', figsize=(10, 6))"
   ]
  },
  {
   "cell_type": "code",
   "execution_count": 14,
   "id": "e8723f96",
   "metadata": {},
   "outputs": [
    {
     "name": "stdout",
     "output_type": "stream",
     "text": [
      "The Mean is: 826769.81\n",
      "The Median is: 748967.00\n",
      "The Variance is: 188294610387.85\n",
      "The Skew is: 0.5457\n",
      "The Kurtosis is: -0.5038\n",
      "\n",
      " We have a Multimodal distribution\n"
     ]
    }
   ],
   "source": [
    "mean = weekly_cases_tx_data.mean()\n",
    "print(f\"The Mean is: {mean:.2f}\")\n",
    "\n",
    "median = weekly_cases_tx_data.median()\n",
    "print(f\"The Median is: {median:.2f}\")\n",
    "\n",
    "variance = weekly_cases_tx_data.var()\n",
    "print(f\"The Variance is: {variance:.2f}\")\n",
    "\n",
    "skew = weekly_cases_tx_data.skew()\n",
    "print(f\"The Skew is: {skew:.4f}\")\n",
    "\n",
    "kurtosis = weekly_cases_tx_data.kurt()\n",
    "print(f\"The Kurtosis is: {kurtosis:.4f}\")\n",
    "\n",
    "print(\"\\n We have a Multimodal distribution\")"
   ]
  },
  {
   "cell_type": "markdown",
   "id": "b95c12e3",
   "metadata": {},
   "source": [
    "### Florida distribution"
   ]
  },
  {
   "cell_type": "code",
   "execution_count": 15,
   "id": "aac70562",
   "metadata": {},
   "outputs": [
    {
     "data": {
      "text/plain": [
       "<Axes: >"
      ]
     },
     "execution_count": 15,
     "metadata": {},
     "output_type": "execute_result"
    },
    {
     "data": {
      "image/png": "[encoded data removed]",
      "text/plain": [
       "<Figure size 1000x600 with 1 Axes>"
      ]
     },
     "metadata": {},
     "output_type": "display_data"
    }
   ],
   "source": [
    "fl_cases = cases[cases[\"State\"] == \"FL\"]\n",
    "selected_date_columns = [col for col in fl_cases.columns if '2020-07-01' <= col <= '2020-12-31']\n",
    "fl_cases = fl_cases[selected_date_columns]\n",
    "\n",
    "count = 6\n",
    "weekly_cases_fl = []\n",
    "for col in fl_cases.columns:\n",
    "    count = count + 1\n",
    "    if count % 7 == 0:\n",
    "        weekly_cases_fl.append(fl_cases[col].sum())\n",
    "weekly_cases_fl_data = pd.Series(weekly_cases_fl)\n",
    "\n",
    "weekly_cases_fl_data.hist(bins=20, ec='black', figsize=(10, 6))"
   ]
  },
  {
   "cell_type": "code",
   "execution_count": 16,
   "id": "53a34b00",
   "metadata": {},
   "outputs": [
    {
     "name": "stdout",
     "output_type": "stream",
     "text": [
      "The Mean is: 721351.74\n",
      "The Median is: 706515.00\n",
      "The Variance is: 84378499800.05\n",
      "The Skew is: 0.1006\n",
      "The Kurtosis is: -0.2044\n",
      "\n",
      " We have a Symmetrical distribution\n"
     ]
    }
   ],
   "source": [
    "mean = weekly_cases_fl_data.mean()\n",
    "print(f\"The Mean is: {mean:.2f}\")\n",
    "\n",
    "median = weekly_cases_fl_data.median()\n",
    "print(f\"The Median is: {median:.2f}\")\n",
    "\n",
    "variance = weekly_cases_fl_data.var()\n",
    "print(f\"The Variance is: {variance:.2f}\")\n",
    "\n",
    "skew = weekly_cases_fl_data.skew()\n",
    "print(f\"The Skew is: {skew:.4f}\")\n",
    "\n",
    "kurtosis = weekly_cases_fl_data.kurt()\n",
    "print(f\"The Kurtosis is: {kurtosis:.4f}\")\n",
    "\n",
    "print(\"\\n We have a Symmetrical distribution\")"
   ]
  },
  {
   "cell_type": "markdown",
   "id": "323c1ae6",
   "metadata": {},
   "source": [
    "__Analysis__: The distributions look different for all States, and this implies that each State experinced a different pattern in the rise of COVID-19 cases."
   ]
  },
  {
   "cell_type": "markdown",
   "id": "577f5614",
   "metadata": {},
   "source": [
    "## Model a poission distribution of COVID-19 cases and deaths of a state and compare to other 5 states"
   ]
  },
  {
   "cell_type": "markdown",
   "id": "cc9a17ae",
   "metadata": {},
   "source": [
    "# ?????????????????????????????????????????????????????????????????"
   ]
  },
  {
   "cell_type": "markdown",
   "id": "f1f117bb",
   "metadata": {},
   "source": [
    "## Perform corelation between Employment data and COVID-19 cases to observe patterns for North Carolina"
   ]
  },
  {
   "cell_type": "code",
   "execution_count": 17,
   "id": "c9840adc",
   "metadata": {},
   "outputs": [],
   "source": [
    "employment_jul_aug_sep = pd.read_excel('allhlcn203.xlsx')\n",
    "nc_employment_jul_aug_sep = employment_jul_aug_sep[employment_jul_aug_sep[\"St Name\"] == \"North Carolina\"]\n",
    "nc_employment_jul_aug_sep = nc_employment_jul_aug_sep[[\"July Employment\", \"August Employment\", \"September Employment\"]]\n",
    "\n",
    "employment_oct_nov_dec = pd.read_excel('allhlcn204.xlsx')\n",
    "nc_employment_oct_nov_dec = employment_oct_nov_dec[employment_oct_nov_dec[\"St Name\"] == \"North Carolina\"]\n",
    "nc_employment_oct_nov_dec = nc_employment_oct_nov_dec[[\"October Employment\", \"November Employment\", \"December Employment\"]]"
   ]
  },
  {
   "cell_type": "code",
   "execution_count": 18,
   "id": "0d8d22af",
   "metadata": {},
   "outputs": [
    {
     "data": {
      "image/png": "[encoded data removed]",
      "text/plain": [
       "<IPython.core.display.Image object>"
      ]
     },
     "execution_count": 18,
     "metadata": {},
     "output_type": "execute_result"
    }
   ],
   "source": [
    "nc_employment_jul = nc_employment_jul_aug_sep[\"July Employment\"].sum()\n",
    "nc_employment_aug = nc_employment_jul_aug_sep[\"August Employment\"].sum()\n",
    "nc_employment_sep = nc_employment_jul_aug_sep[\"September Employment\"].sum()\n",
    "\n",
    "nc_employment_oct = nc_employment_oct_nov_dec[\"October Employment\"].sum()\n",
    "nc_employment_nov = nc_employment_oct_nov_dec[\"November Employment\"].sum()\n",
    "nc_employment_dec = nc_employment_oct_nov_dec[\"December Employment\"].sum()\n",
    "\n",
    "months = [\"July\", \"August\", \"September\", \"October\", \"November\", \"December\"]\n",
    "employment_sums = [nc_employment_jul, nc_employment_aug, nc_employment_sep, nc_employment_oct, nc_employment_nov, nc_employment_dec]\n",
    "\n",
    "data = {\n",
    "    'Jul 2020 - Dec 2020': months,\n",
    "    'Employment': employment_sums\n",
    "}\n",
    "\n",
    "fig = px.line(data, x='Jul 2020 - Dec 2020', y='Employment', title='Monthly Employment from Jul 2020 - Dec 2020')\n",
    "fig.write_image(\"employment.png\")\n",
    "Image(filename=\"employment.png\")"
   ]
  },
  {
   "cell_type": "code",
   "execution_count": 19,
   "id": "c6f12790",
   "metadata": {},
   "outputs": [
    {
     "data": {
      "image/png": "[encoded data removed]",
      "text/plain": [
       "<IPython.core.display.Image object>"
      ]
     },
     "execution_count": 19,
     "metadata": {},
     "output_type": "execute_result"
    }
   ],
   "source": [
    "fig = go.Figure()\n",
    "\n",
    "fig.add_trace(go.Scatter(x=weekly_cases_nc_data.index, y=weekly_cases_nc_data,\n",
    "                         mode='lines', name='North Carolina'))\n",
    "\n",
    "fig.update_layout(\n",
    "    title='Weekly Cases in North Carolina',\n",
    "    xaxis=dict(title='Each Week (Jul 2020 - Dec 2020)'),\n",
    "    yaxis=dict(title='# of Cases'),\n",
    "    showlegend=True,\n",
    "    width=800,\n",
    "    height=500\n",
    ")\n",
    "\n",
    "fig.write_image(\"nc_cases.png\")\n",
    "Image(filename=\"nc_cases.png\")"
   ]
  },
  {
   "cell_type": "markdown",
   "id": "948e3e2c",
   "metadata": {},
   "source": [
    "### Corelation and Pattern?"
   ]
  },
  {
   "cell_type": "markdown",
   "id": "b1bec561",
   "metadata": {},
   "source": [
    "__Observation__: We would assume that as COVID-19 cases were on the rise, there would be a drastic fall in employment, but our graph shows the opposite. From further research, it seems that COVID-19 lockdowns ended in August 2020 and ever since then the recovery of our economy began (National Institues of Health(.gov)). Considering these facts, our graphs are accurate since they show data from July 2020 to December 2020. a period when the economy was in the recovery phase."
   ]
  },
  {
   "cell_type": "markdown",
   "id": "817d84c7",
   "metadata": {},
   "source": [
    "## End of Lockdowns lead to higher COVID-19 cases"
   ]
  },
  {
   "cell_type": "markdown",
   "id": "d48c16cd",
   "metadata": {},
   "source": [
    "Begining August 2020, mostly all lockdowns were lifted and this let to more and more people being uncautious once gain leading to a surge in spread COVID-19."
   ]
  },
  {
   "cell_type": "markdown",
   "id": "2ba0695f",
   "metadata": {},
   "source": [
    "## High Employment lead to higher COVID-19 cases"
   ]
  },
  {
   "cell_type": "markdown",
   "id": "103e7ca9",
   "metadata": {},
   "source": [
    "As the economy was in recovery the employment soared, and more and more cases of COVID-19 were on the rise. From the graphs displayed above, we observe that as the Employement went higher and higher, the number of COVID-19 cases rose more and more."
   ]
  },
  {
   "cell_type": "markdown",
   "id": "6de06d1f",
   "metadata": {},
   "source": [
    "## Holiday gatherings lead to higher COVID-19 cases"
   ]
  },
  {
   "cell_type": "markdown",
   "id": "a02ec1df",
   "metadata": {},
   "source": [
    "The Months examined were from July to December, and all these months of High gatherings (i.e., 4th of July, Halloween, Thanksgiving, Christmas). The high gatherings and people being around eachother without caution lead to a spread of COVID-19 as suuported by our graphs."
   ]
  }
 ],
 "metadata": {
  "kernelspec": {
   "display_name": "Python 3 (ipykernel)",
   "language": "python",
   "name": "python3"
  },
  "language_info": {
   "codemirror_mode": {
    "name": "ipython",
    "version": 3
   },
   "file_extension": ".py",
   "mimetype": "text/x-python",
   "name": "python",
   "nbconvert_exporter": "python",
   "pygments_lexer": "ipython3",
   "version": "3.11.4"
  }
 },
 "nbformat": 4,
 "nbformat_minor": 5
}
