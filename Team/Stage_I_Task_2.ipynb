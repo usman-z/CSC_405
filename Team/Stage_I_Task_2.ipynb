{
 "cells": [
  {
   "cell_type": "markdown",
   "metadata": {
    "collapsed": false
   },
   "source": [
    "# Team Report - COVID19 Dataset\n",
    "The COVID-19 dataset is provided by the Cases, Deaths, and the County population.  \n",
    "In this notebook, we will analyze the COVID-19 Dataset to fully understand it."
   ]
  },
  {
   "cell_type": "code",
   "execution_count": 12,
   "metadata": {
    "collapsed": false
   },
   "outputs": [
   ],
   "source": [
    "import pandas as pd"
   ]
  },
  {
   "cell_type": "markdown",
   "metadata": {
    "collapsed": false
   },
   "source": [
    "Let's import the Cases, Deaths, and County population data using pandas"
   ]
  },
  {
   "cell_type": "code",
   "execution_count": 13,
   "metadata": {
    "collapsed": false
   },
   "outputs": [
   ],
   "source": [
    "confirmed = pd.read_csv(\"covid_confirmed_usafacts.csv\")\n",
    "deaths = pd.read_csv(\"covid_deaths_usafacts.csv\")\n",
    "county_population = pd.read_csv(\"covid_county_population_usafacts.csv\")"
   ]
  },
  {
   "cell_type": "markdown",
   "metadata": {
    "collapsed": false
   },
   "source": [
    "## Cases Data"
   ]
  },
  {
   "cell_type": "code",
   "execution_count": 14,
   "metadata": {
    "collapsed": false
   },
   "outputs": [
    {
     "data": {
      "text/html": [
       "<div>\n",
       "<style scoped>\n",
       "    .dataframe tbody tr th:only-of-type {\n",
       "        vertical-align: middle;\n",
       "    }\n",
       "\n",
       "    .dataframe tbody tr th {\n",
       "        vertical-align: top;\n",
       "    }\n",
       "\n",
       "    .dataframe thead th {\n",
       "        text-align: right;\n",
       "    }\n",
       "</style>\n",
       "<table border=\"1\" class=\"dataframe\">\n",
       "  <thead>\n",
       "    <tr style=\"text-align: right;\">\n",
       "      <th></th>\n",
       "      <th>countyFIPS</th>\n",
       "      <th>County Name</th>\n",
       "      <th>State</th>\n",
       "      <th>StateFIPS</th>\n",
       "      <th>2020-01-22</th>\n",
       "      <th>2020-01-23</th>\n",
       "      <th>2020-01-24</th>\n",
       "      <th>2020-01-25</th>\n",
       "      <th>2020-01-26</th>\n",
       "      <th>2020-01-27</th>\n",
       "      <th>...</th>\n",
       "      <th>2023-07-14</th>\n",
       "      <th>2023-07-15</th>\n",
       "      <th>2023-07-16</th>\n",
       "      <th>2023-07-17</th>\n",
       "      <th>2023-07-18</th>\n",
       "      <th>2023-07-19</th>\n",
       "      <th>2023-07-20</th>\n",
       "      <th>2023-07-21</th>\n",
       "      <th>2023-07-22</th>\n",
       "      <th>2023-07-23</th>\n",
       "    </tr>\n",
       "  </thead>\n",
       "  <tbody>\n",
       "    <tr>\n",
       "      <th>0</th>\n",
       "      <td>0</td>\n",
       "      <td>Statewide Unallocated</td>\n",
       "      <td>AL</td>\n",
       "      <td>1</td>\n",
       "      <td>0</td>\n",
       "      <td>0</td>\n",
       "      <td>0</td>\n",
       "      <td>0</td>\n",
       "      <td>0</td>\n",
       "      <td>0</td>\n",
       "      <td>...</td>\n",
       "      <td>0</td>\n",
       "      <td>0</td>\n",
       "      <td>0</td>\n",
       "      <td>0</td>\n",
       "      <td>0</td>\n",
       "      <td>0</td>\n",
       "      <td>0</td>\n",
       "      <td>0</td>\n",
       "      <td>0</td>\n",
       "      <td>0</td>\n",
       "    </tr>\n",
       "    <tr>\n",
       "      <th>1</th>\n",
       "      <td>1001</td>\n",
       "      <td>Autauga County</td>\n",
       "      <td>AL</td>\n",
       "      <td>1</td>\n",
       "      <td>0</td>\n",
       "      <td>0</td>\n",
       "      <td>0</td>\n",
       "      <td>0</td>\n",
       "      <td>0</td>\n",
       "      <td>0</td>\n",
       "      <td>...</td>\n",
       "      <td>19913</td>\n",
       "      <td>19913</td>\n",
       "      <td>19913</td>\n",
       "      <td>19913</td>\n",
       "      <td>19913</td>\n",
       "      <td>19913</td>\n",
       "      <td>19913</td>\n",
       "      <td>19913</td>\n",
       "      <td>19913</td>\n",
       "      <td>19913</td>\n",
       "    </tr>\n",
       "    <tr>\n",
       "      <th>2</th>\n",
       "      <td>1003</td>\n",
       "      <td>Baldwin County</td>\n",
       "      <td>AL</td>\n",
       "      <td>1</td>\n",
       "      <td>0</td>\n",
       "      <td>0</td>\n",
       "      <td>0</td>\n",
       "      <td>0</td>\n",
       "      <td>0</td>\n",
       "      <td>0</td>\n",
       "      <td>...</td>\n",
       "      <td>70521</td>\n",
       "      <td>70521</td>\n",
       "      <td>70521</td>\n",
       "      <td>70521</td>\n",
       "      <td>70521</td>\n",
       "      <td>70521</td>\n",
       "      <td>70521</td>\n",
       "      <td>70521</td>\n",
       "      <td>70521</td>\n",
       "      <td>70521</td>\n",
       "    </tr>\n",
       "    <tr>\n",
       "      <th>3</th>\n",
       "      <td>1005</td>\n",
       "      <td>Barbour County</td>\n",
       "      <td>AL</td>\n",
       "      <td>1</td>\n",
       "      <td>0</td>\n",
       "      <td>0</td>\n",
       "      <td>0</td>\n",
       "      <td>0</td>\n",
       "      <td>0</td>\n",
       "      <td>0</td>\n",
       "      <td>...</td>\n",
       "      <td>7582</td>\n",
       "      <td>7582</td>\n",
       "      <td>7582</td>\n",
       "      <td>7582</td>\n",
       "      <td>7582</td>\n",
       "      <td>7582</td>\n",
       "      <td>7582</td>\n",
       "      <td>7582</td>\n",
       "      <td>7582</td>\n",
       "      <td>7582</td>\n",
       "    </tr>\n",
       "    <tr>\n",
       "      <th>4</th>\n",
       "      <td>1007</td>\n",
       "      <td>Bibb County</td>\n",
       "      <td>AL</td>\n",
       "      <td>1</td>\n",
       "      <td>0</td>\n",
       "      <td>0</td>\n",
       "      <td>0</td>\n",
       "      <td>0</td>\n",
       "      <td>0</td>\n",
       "      <td>0</td>\n",
       "      <td>...</td>\n",
       "      <td>8149</td>\n",
       "      <td>8149</td>\n",
       "      <td>8149</td>\n",
       "      <td>8149</td>\n",
       "      <td>8149</td>\n",
       "      <td>8149</td>\n",
       "      <td>8149</td>\n",
       "      <td>8149</td>\n",
       "      <td>8149</td>\n",
       "      <td>8149</td>\n",
       "    </tr>\n",
       "  </tbody>\n",
       "</table>\n",
       "<p>5 rows × 1269 columns</p>\n",
       "</div>"
      ],
      "text/plain": [
       "   countyFIPS            County Name State  StateFIPS  2020-01-22  2020-01-23  \\\n",
       "0           0  Statewide Unallocated    AL          1           0           0   \n",
       "1        1001        Autauga County     AL          1           0           0   \n",
       "2        1003        Baldwin County     AL          1           0           0   \n",
       "3        1005        Barbour County     AL          1           0           0   \n",
       "4        1007           Bibb County     AL          1           0           0   \n",
       "\n",
       "   2020-01-24  2020-01-25  2020-01-26  2020-01-27  ...  2023-07-14  \\\n",
       "0           0           0           0           0  ...           0   \n",
       "1           0           0           0           0  ...       19913   \n",
       "2           0           0           0           0  ...       70521   \n",
       "3           0           0           0           0  ...        7582   \n",
       "4           0           0           0           0  ...        8149   \n",
       "\n",
       "   2023-07-15  2023-07-16  2023-07-17  2023-07-18  2023-07-19  2023-07-20  \\\n",
       "0           0           0           0           0           0           0   \n",
       "1       19913       19913       19913       19913       19913       19913   \n",
       "2       70521       70521       70521       70521       70521       70521   \n",
       "3        7582        7582        7582        7582        7582        7582   \n",
       "4        8149        8149        8149        8149        8149        8149   \n",
       "\n",
       "   2023-07-21  2023-07-22  2023-07-23  \n",
       "0           0           0           0  \n",
       "1       19913       19913       19913  \n",
       "2       70521       70521       70521  \n",
       "3        7582        7582        7582  \n",
       "4        8149        8149        8149  \n",
       "\n",
       "[5 rows x 1269 columns]"
      ]
     },
     "execution_count": 14,
     "metadata": {
     },
     "output_type": "execute_result"
    }
   ],
   "source": [
    "confirmed.head()"
   ]
  },
  {
   "cell_type": "markdown",
   "metadata": {
    "collapsed": false
   },
   "source": [
    "We can see 4 columns.  \n",
    "Additionally, there is a column for every day starting from the 01/22/2020 to 07/23/2023 with the number of confirmed covid cases.  \n",
    "\n",
    "Let's have a closer look at each Column..."
   ]
  },
  {
   "cell_type": "markdown",
   "metadata": {
    "collapsed": false
   },
   "source": [
    "### Variable dictionary for the Cases data"
   ]
  },
  {
   "cell_type": "markdown",
   "metadata": {
    "collapsed": false
   },
   "source": [
    "|    Name        | Definition                     | Data type | Possible values                           |Required?|\n",
    "|:--------------:|:------------------------------:|:---------:|:-----------------------------------------:|:-------:|\n",
    "| County FIPS    | Unique identifier for a County | Integer   | 0, 1001, 20075                            | Yes     |\n",
    "| County Name    | Name of the County             | String    | \"Barbour County\", \"Statewide Unallocated\" | Yes     |\n",
    "| State          | Name of the State              | String    | \"AL, \"KS\", \"WI\"                           | Yes     |\n",
    "| State FIPS     | Unique identifier for a State  | Integer   | 1, 5, 20                                  | Yes     |"
   ]
  },
  {
   "cell_type": "markdown",
   "metadata": {
    "collapsed": false
   },
   "source": [
    "## Deaths Data"
   ]
  },
  {
   "cell_type": "code",
   "execution_count": 15,
   "metadata": {
    "collapsed": false,
    "scrolled": true
   },
   "outputs": [
    {
     "data": {
      "text/html": [
       "<div>\n",
       "<style scoped>\n",
       "    .dataframe tbody tr th:only-of-type {\n",
       "        vertical-align: middle;\n",
       "    }\n",
       "\n",
       "    .dataframe tbody tr th {\n",
       "        vertical-align: top;\n",
       "    }\n",
       "\n",
       "    .dataframe thead th {\n",
       "        text-align: right;\n",
       "    }\n",
       "</style>\n",
       "<table border=\"1\" class=\"dataframe\">\n",
       "  <thead>\n",
       "    <tr style=\"text-align: right;\">\n",
       "      <th></th>\n",
       "      <th>countyFIPS</th>\n",
       "      <th>County Name</th>\n",
       "      <th>State</th>\n",
       "      <th>StateFIPS</th>\n",
       "      <th>2020-01-22</th>\n",
       "      <th>2020-01-23</th>\n",
       "      <th>2020-01-24</th>\n",
       "      <th>2020-01-25</th>\n",
       "      <th>2020-01-26</th>\n",
       "      <th>2020-01-27</th>\n",
       "      <th>...</th>\n",
       "      <th>2023-07-14</th>\n",
       "      <th>2023-07-15</th>\n",
       "      <th>2023-07-16</th>\n",
       "      <th>2023-07-17</th>\n",
       "      <th>2023-07-18</th>\n",
       "      <th>2023-07-19</th>\n",
       "      <th>2023-07-20</th>\n",
       "      <th>2023-07-21</th>\n",
       "      <th>2023-07-22</th>\n",
       "      <th>2023-07-23</th>\n",
       "    </tr>\n",
       "  </thead>\n",
       "  <tbody>\n",
       "    <tr>\n",
       "      <th>0</th>\n",
       "      <td>0</td>\n",
       "      <td>Statewide Unallocated</td>\n",
       "      <td>AL</td>\n",
       "      <td>1</td>\n",
       "      <td>0</td>\n",
       "      <td>0</td>\n",
       "      <td>0</td>\n",
       "      <td>0</td>\n",
       "      <td>0</td>\n",
       "      <td>0</td>\n",
       "      <td>...</td>\n",
       "      <td>0</td>\n",
       "      <td>0</td>\n",
       "      <td>0</td>\n",
       "      <td>0</td>\n",
       "      <td>0</td>\n",
       "      <td>0</td>\n",
       "      <td>0</td>\n",
       "      <td>0</td>\n",
       "      <td>0</td>\n",
       "      <td>0</td>\n",
       "    </tr>\n",
       "    <tr>\n",
       "      <th>1</th>\n",
       "      <td>1001</td>\n",
       "      <td>Autauga County</td>\n",
       "      <td>AL</td>\n",
       "      <td>1</td>\n",
       "      <td>0</td>\n",
       "      <td>0</td>\n",
       "      <td>0</td>\n",
       "      <td>0</td>\n",
       "      <td>0</td>\n",
       "      <td>0</td>\n",
       "      <td>...</td>\n",
       "      <td>235</td>\n",
       "      <td>235</td>\n",
       "      <td>235</td>\n",
       "      <td>235</td>\n",
       "      <td>235</td>\n",
       "      <td>235</td>\n",
       "      <td>235</td>\n",
       "      <td>235</td>\n",
       "      <td>235</td>\n",
       "      <td>235</td>\n",
       "    </tr>\n",
       "    <tr>\n",
       "      <th>2</th>\n",
       "      <td>1003</td>\n",
       "      <td>Baldwin County</td>\n",
       "      <td>AL</td>\n",
       "      <td>1</td>\n",
       "      <td>0</td>\n",
       "      <td>0</td>\n",
       "      <td>0</td>\n",
       "      <td>0</td>\n",
       "      <td>0</td>\n",
       "      <td>0</td>\n",
       "      <td>...</td>\n",
       "      <td>731</td>\n",
       "      <td>731</td>\n",
       "      <td>731</td>\n",
       "      <td>731</td>\n",
       "      <td>731</td>\n",
       "      <td>731</td>\n",
       "      <td>731</td>\n",
       "      <td>731</td>\n",
       "      <td>731</td>\n",
       "      <td>731</td>\n",
       "    </tr>\n",
       "    <tr>\n",
       "      <th>3</th>\n",
       "      <td>1005</td>\n",
       "      <td>Barbour County</td>\n",
       "      <td>AL</td>\n",
       "      <td>1</td>\n",
       "      <td>0</td>\n",
       "      <td>0</td>\n",
       "      <td>0</td>\n",
       "      <td>0</td>\n",
       "      <td>0</td>\n",
       "      <td>0</td>\n",
       "      <td>...</td>\n",
       "      <td>104</td>\n",
       "      <td>104</td>\n",
       "      <td>104</td>\n",
       "      <td>104</td>\n",
       "      <td>104</td>\n",
       "      <td>104</td>\n",
       "      <td>104</td>\n",
       "      <td>104</td>\n",
       "      <td>104</td>\n",
       "      <td>104</td>\n",
       "    </tr>\n",
       "    <tr>\n",
       "      <th>4</th>\n",
       "      <td>1007</td>\n",
       "      <td>Bibb County</td>\n",
       "      <td>AL</td>\n",
       "      <td>1</td>\n",
       "      <td>0</td>\n",
       "      <td>0</td>\n",
       "      <td>0</td>\n",
       "      <td>0</td>\n",
       "      <td>0</td>\n",
       "      <td>0</td>\n",
       "      <td>...</td>\n",
       "      <td>111</td>\n",
       "      <td>111</td>\n",
       "      <td>111</td>\n",
       "      <td>111</td>\n",
       "      <td>111</td>\n",
       "      <td>111</td>\n",
       "      <td>111</td>\n",
       "      <td>111</td>\n",
       "      <td>111</td>\n",
       "      <td>111</td>\n",
       "    </tr>\n",
       "  </tbody>\n",
       "</table>\n",
       "<p>5 rows × 1269 columns</p>\n",
       "</div>"
      ],
      "text/plain": [
       "   countyFIPS            County Name State  StateFIPS  2020-01-22  2020-01-23  \\\n",
       "0           0  Statewide Unallocated    AL          1           0           0   \n",
       "1        1001        Autauga County     AL          1           0           0   \n",
       "2        1003        Baldwin County     AL          1           0           0   \n",
       "3        1005        Barbour County     AL          1           0           0   \n",
       "4        1007           Bibb County     AL          1           0           0   \n",
       "\n",
       "   2020-01-24  2020-01-25  2020-01-26  2020-01-27  ...  2023-07-14  \\\n",
       "0           0           0           0           0  ...           0   \n",
       "1           0           0           0           0  ...         235   \n",
       "2           0           0           0           0  ...         731   \n",
       "3           0           0           0           0  ...         104   \n",
       "4           0           0           0           0  ...         111   \n",
       "\n",
       "   2023-07-15  2023-07-16  2023-07-17  2023-07-18  2023-07-19  2023-07-20  \\\n",
       "0           0           0           0           0           0           0   \n",
       "1         235         235         235         235         235         235   \n",
       "2         731         731         731         731         731         731   \n",
       "3         104         104         104         104         104         104   \n",
       "4         111         111         111         111         111         111   \n",
       "\n",
       "   2023-07-21  2023-07-22  2023-07-23  \n",
       "0           0           0           0  \n",
       "1         235         235         235  \n",
       "2         731         731         731  \n",
       "3         104         104         104  \n",
       "4         111         111         111  \n",
       "\n",
       "[5 rows x 1269 columns]"
      ]
     },
     "execution_count": 15,
     "metadata": {
     },
     "output_type": "execute_result"
    }
   ],
   "source": [
    "deaths.head()"
   ]
  },
  {
   "cell_type": "markdown",
   "metadata": {
    "collapsed": false
   },
   "source": [
    "Similarly to Cases, we can see 4 columns.  \n",
    "Additionally, there is a column for every day starting from the 01/22/2020 to 07/23/2023 with the number of confirmed covid deaths. \n",
    "\n",
    "Let's have a closer look at each Column..."
   ]
  },
  {
   "cell_type": "markdown",
   "metadata": {
    "collapsed": false
   },
   "source": [
    "### Variable dictionary for the Deaths data"
   ]
  },
  {
   "cell_type": "markdown",
   "metadata": {
    "collapsed": false
   },
   "source": [
    "|    Name        | Definition                     | Data type | Possible values                           |Required?|\n",
    "|:--------------:|:------------------------------:|:---------:|:-----------------------------------------:|:-------:|\n",
    "| County FIPS    | Unique identifier for a County | Integer   | 0, 1001, 20075                            | Yes     |\n",
    "| County Name    | Name of the County             | String    | \"Barbour County\", \"Statewide Unallocated\" | Yes     |\n",
    "| State          | Name of the State              | String    | \"AL, \"KS\", \"WI\"                           | Yes     |\n",
    "| State FIPS     | Unique identifier for a State  | Integer   | 1, 5, 20                                  | Yes     |"
   ]
  },
  {
   "cell_type": "markdown",
   "metadata": {
    "collapsed": false
   },
   "source": [
    "## County Population Data"
   ]
  },
  {
   "cell_type": "code",
   "execution_count": 16,
   "metadata": {
    "collapsed": false
   },
   "outputs": [
    {
     "data": {
      "text/html": [
       "<div>\n",
       "<style scoped>\n",
       "    .dataframe tbody tr th:only-of-type {\n",
       "        vertical-align: middle;\n",
       "    }\n",
       "\n",
       "    .dataframe tbody tr th {\n",
       "        vertical-align: top;\n",
       "    }\n",
       "\n",
       "    .dataframe thead th {\n",
       "        text-align: right;\n",
       "    }\n",
       "</style>\n",
       "<table border=\"1\" class=\"dataframe\">\n",
       "  <thead>\n",
       "    <tr style=\"text-align: right;\">\n",
       "      <th></th>\n",
       "      <th>countyFIPS</th>\n",
       "      <th>County Name</th>\n",
       "      <th>State</th>\n",
       "      <th>population</th>\n",
       "    </tr>\n",
       "  </thead>\n",
       "  <tbody>\n",
       "    <tr>\n",
       "      <th>0</th>\n",
       "      <td>0</td>\n",
       "      <td>Statewide Unallocated</td>\n",
       "      <td>AL</td>\n",
       "      <td>0</td>\n",
       "    </tr>\n",
       "    <tr>\n",
       "      <th>1</th>\n",
       "      <td>1001</td>\n",
       "      <td>Autauga County</td>\n",
       "      <td>AL</td>\n",
       "      <td>55869</td>\n",
       "    </tr>\n",
       "    <tr>\n",
       "      <th>2</th>\n",
       "      <td>1003</td>\n",
       "      <td>Baldwin County</td>\n",
       "      <td>AL</td>\n",
       "      <td>223234</td>\n",
       "    </tr>\n",
       "    <tr>\n",
       "      <th>3</th>\n",
       "      <td>1005</td>\n",
       "      <td>Barbour County</td>\n",
       "      <td>AL</td>\n",
       "      <td>24686</td>\n",
       "    </tr>\n",
       "    <tr>\n",
       "      <th>4</th>\n",
       "      <td>1007</td>\n",
       "      <td>Bibb County</td>\n",
       "      <td>AL</td>\n",
       "      <td>22394</td>\n",
       "    </tr>\n",
       "  </tbody>\n",
       "</table>\n",
       "</div>"
      ],
      "text/plain": [
       "   countyFIPS            County Name State  population\n",
       "0           0  Statewide Unallocated    AL           0\n",
       "1        1001         Autauga County    AL       55869\n",
       "2        1003         Baldwin County    AL      223234\n",
       "3        1005         Barbour County    AL       24686\n",
       "4        1007            Bibb County    AL       22394"
      ]
     },
     "execution_count": 16,
     "metadata": {
     },
     "output_type": "execute_result"
    }
   ],
   "source": [
    "county_population.head()"
   ]
  },
  {
   "cell_type": "markdown",
   "metadata": {
    "collapsed": false
   },
   "source": [
    "Similarly to confirmed cases, we can see 4 columns.  \n",
    "Intersetingly, the column StateFIPS does not exists in this dataset.  \n",
    "Additionally, there is a column  with the population of the county.  \n",
    "\n",
    "Let's have a closer look at each Column..."
   ]
  },
  {
   "cell_type": "markdown",
   "metadata": {
    "collapsed": false
   },
   "source": [
    "### Variable dictionary for the County Population data"
   ]
  },
  {
   "cell_type": "markdown",
   "metadata": {
    "collapsed": false
   },
   "source": [
    "|    Name        | Definition                     | Data type | Possible values                           |Required?|\n",
    "|:--------------:|:------------------------------:|:---------:|:-----------------------------------------:|:-------:|\n",
    "| County FIPS    | Unique identifier for a County | Integer   | 0, 1001, 20075                            | Yes     |\n",
    "| County Name    | Name of the County             | String    | \"Barbour County\", \"Statewide Unallocated\" | Yes     |\n",
    "| State          | Name of the State              | String    | \"AL, \"KS\", \"WI\"                           | Yes     |\n",
    "| Population     | The population of a County     | Integer   | 0, 8111, 164542                           | Yes     |"
   ]
  }
 ],
 "metadata": {
  "kernelspec": {
   "display_name": "python3",
   "env": {
   },
   "language": "python",
   "name": "python3",
   "resource_dir": "/projects/af076c66-cfc6-44f8-8414-03013b9beb69/.local/share/jupyter/kernels/python3"
  },
  "language_info": {
   "codemirror_mode": {
    "name": "ipython",
    "version": 3
   },
   "file_extension": ".py",
   "mimetype": "text/x-python",
   "name": "python",
   "nbconvert_exporter": "python",
   "pygments_lexer": "ipython3",
   "version": "3.11.4"
  }
 },
 "nbformat": 4,
 "nbformat_minor": 4
}