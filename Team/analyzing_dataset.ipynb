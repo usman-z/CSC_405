{
 "cells": [
  {
   "cell_type": "markdown",
   "metadata": {
    "collapsed": false
   },
   "source": [
    "# Task Two:\n",
    "\n",
    "This notebook is intendented to analyze the given COVID\\-19 Dataset, with the goal of creating a description and vraible dictionary\n"
   ]
  },
  {
   "cell_type": "markdown",
   "metadata": {
    "collapsed": false
   },
   "source": [
    "First we download the data to the local maschine\n"
   ]
  },
  {
   "cell_type": "code",
   "execution_count": 1,
   "metadata": {
    "collapsed": false
   },
   "outputs": [
    {
     "name": "stdout",
     "output_type": "stream",
     "text": [
      "--2023-09-18 04:09:14--  https://static.usafacts.org/public/data/covid-19/covid_confirmed_usafacts.csv\r\n",
      "Resolving static.usafacts.org (static.usafacts.org)... 104.18.11.66, 104.18.10.66, 2606:4700::6812:a42, ...\r\n",
      "Connecting to static.usafacts.org (static.usafacts.org)|104.18.11.66|:443... "
     ]
    },
    {
     "name": "stdout",
     "output_type": "stream",
     "text": [
      "connected.\r\n",
      "HTTP request sent, awaiting response... "
     ]
    },
    {
     "name": "stdout",
     "output_type": "stream",
     "text": [
      "200 OK\r\n",
      "Length: 19106921 (18M) [application/octet-stream]\r\n",
      "Saving to: ‘data/covid_confirmed_usafacts.csv.2’\r\n",
      "\r\n",
      "\r          covid_con   0%[                    ]       0  --.-KB/s               "
     ]
    },
    {
     "name": "stdout",
     "output_type": "stream",
     "text": [
      "\r         covid_conf   6%[>                   ]   1.26M  6.22MB/s               "
     ]
    },
    {
     "name": "stdout",
     "output_type": "stream",
     "text": [
      "\r        covid_confi  14%[=>                  ]   2.66M  6.59MB/s               "
     ]
    },
    {
     "name": "stdout",
     "output_type": "stream",
     "text": [
      "\r       covid_confir  22%[===>                ]   4.07M  6.72MB/s               "
     ]
    },
    {
     "name": "stdout",
     "output_type": "stream",
     "text": [
      "\r      covid_confirm  30%[=====>              ]   5.47M  6.78MB/s               "
     ]
    },
    {
     "name": "stdout",
     "output_type": "stream",
     "text": [
      "\r     covid_confirme  37%[======>             ]   6.88M  6.82MB/s               "
     ]
    },
    {
     "name": "stdout",
     "output_type": "stream",
     "text": [
      "\r    covid_confirmed  45%[========>           ]   8.29M  6.85MB/s               "
     ]
    },
    {
     "name": "stdout",
     "output_type": "stream",
     "text": [
      "\r   covid_confirmed_  53%[=========>          ]   9.69M  6.86MB/s               "
     ]
    },
    {
     "name": "stdout",
     "output_type": "stream",
     "text": [
      "\r  covid_confirmed_u  60%[===========>        ]  11.10M  6.88MB/s               "
     ]
    },
    {
     "name": "stdout",
     "output_type": "stream",
     "text": [
      "\r covid_confirmed_us  68%[============>       ]  12.51M  6.89MB/s               "
     ]
    },
    {
     "name": "stdout",
     "output_type": "stream",
     "text": [
      "\rcovid_confirmed_usa  76%[==============>     ]  13.91M  6.90MB/s               "
     ]
    },
    {
     "name": "stdout",
     "output_type": "stream",
     "text": [
      "\rovid_confirmed_usaf  84%[===============>    ]  15.32M  6.90MB/s               "
     ]
    },
    {
     "name": "stdout",
     "output_type": "stream",
     "text": [
      "\rvid_confirmed_usafa  91%[=================>  ]  16.72M  6.91MB/s               "
     ]
    },
    {
     "name": "stdout",
     "output_type": "stream",
     "text": [
      "\rid_confirmed_usafac  99%[==================> ]  18.13M  6.91MB/s               \rcovid_confirmed_usa 100%[===================>]  18.22M  6.92MB/s    in 2.6s    \r\n",
      "\r\n",
      "2023-09-18 04:09:17 (6.92 MB/s) - ‘data/covid_confirmed_usafacts.csv.2’ saved [19106921/19106921]\r\n",
      "\r\n"
     ]
    },
    {
     "name": "stdout",
     "output_type": "stream",
     "text": [
      "--2023-09-18 04:09:17--  https://static.usafacts.org/public/data/covid-19/covid_deaths_usafacts.csv\r\n",
      "Resolving static.usafacts.org (static.usafacts.org)... 104.18.11.66, 104.18.10.66, 2606:4700::6812:a42, ...\r\n",
      "Connecting to static.usafacts.org (static.usafacts.org)|104.18.11.66|:443... connected.\r\n"
     ]
    },
    {
     "name": "stdout",
     "output_type": "stream",
     "text": [
      "HTTP request sent, awaiting response... "
     ]
    },
    {
     "name": "stdout",
     "output_type": "stream",
     "text": [
      "200 OK\r\n",
      "Length: 12636741 (12M) [application/octet-stream]\r\n",
      "Saving to: ‘data/covid_deaths_usafacts.csv.1’\r\n",
      "\r\n",
      "\r          covid_dea   0%[                    ]       0  --.-KB/s               "
     ]
    },
    {
     "name": "stdout",
     "output_type": "stream",
     "text": [
      "\r         covid_deat  10%[=>                  ]   1.28M  6.40MB/s               "
     ]
    },
    {
     "name": "stdout",
     "output_type": "stream",
     "text": [
      "\r        covid_death  22%[===>                ]   2.68M  6.68MB/s               "
     ]
    },
    {
     "name": "stdout",
     "output_type": "stream",
     "text": [
      "\r       covid_deaths  33%[=====>              ]   4.08M  6.77MB/s               "
     ]
    },
    {
     "name": "stdout",
     "output_type": "stream",
     "text": [
      "\r      covid_deaths_  45%[========>           ]   5.49M  6.82MB/s               "
     ]
    },
    {
     "name": "stdout",
     "output_type": "stream",
     "text": [
      "\r     covid_deaths_u  57%[==========>         ]   6.90M  6.86MB/s               "
     ]
    },
    {
     "name": "stdout",
     "output_type": "stream",
     "text": [
      "\r    covid_deaths_us  68%[============>       ]   8.30M  6.88MB/s               "
     ]
    },
    {
     "name": "stdout",
     "output_type": "stream",
     "text": [
      "\r   covid_deaths_usa  80%[===============>    ]   9.71M  6.89MB/s               "
     ]
    },
    {
     "name": "stdout",
     "output_type": "stream",
     "text": [
      "\r  covid_deaths_usaf  92%[=================>  ]  11.12M  6.90MB/s               "
     ]
    },
    {
     "name": "stdout",
     "output_type": "stream",
     "text": [
      "\rcovid_deaths_usafac 100%[===================>]  12.05M  6.91MB/s    in 1.7s    \r\n",
      "\r\n",
      "2023-09-18 04:09:19 (6.91 MB/s) - ‘data/covid_deaths_usafacts.csv.1’ saved [12636741/12636741]\r\n",
      "\r\n"
     ]
    },
    {
     "name": "stdout",
     "output_type": "stream",
     "text": [
      "--2023-09-18 04:09:19--  https://static.usafacts.org/public/data/covid-19/covid_county_population_usafacts.csv\r\n",
      "Resolving static.usafacts.org (static.usafacts.org)... 104.18.10.66, 104.18.11.66, 2606:4700::6812:b42, ...\r\n",
      "Connecting to static.usafacts.org (static.usafacts.org)|104.18.10.66|:443... connected.\r\n"
     ]
    },
    {
     "name": "stdout",
     "output_type": "stream",
     "text": [
      "HTTP request sent, awaiting response... "
     ]
    },
    {
     "name": "stdout",
     "output_type": "stream",
     "text": [
      "200 OK\r\n",
      "Length: 98761 (96K) [text/csv]\r\n",
      "Saving to: ‘data/covid_county_population_usafacts.csv.1’\r\n",
      "\r\n",
      "\r          covid_cou   0%[                    ]       0  --.-KB/s               "
     ]
    },
    {
     "name": "stdout",
     "output_type": "stream",
     "text": [
      "\rcovid_county_popula 100%[===================>]  96.45K  --.-KB/s    in 0.06s   \r\n",
      "\r\n",
      "2023-09-18 04:09:19 (1.46 MB/s) - ‘data/covid_county_population_usafacts.csv.1’ saved [98761/98761]\r\n",
      "\r\n"
     ]
    }
   ],
   "source": [
    "! wget -P data/ https://static.usafacts.org/public/data/covid-19/covid_confirmed_usafacts.csv\n",
    "! wget -P data/ https://static.usafacts.org/public/data/covid-19/covid_deaths_usafacts.csv\n",
    "! wget -P data/ https://static.usafacts.org/public/data/covid-19/covid_county_population_usafacts.csv"
   ]
  },
  {
   "cell_type": "code",
   "execution_count": 2,
   "metadata": {
    "collapsed": false
   },
   "outputs": [
   ],
   "source": [
    "import pandas as pd\n",
    "import numpy as np"
   ]
  },
  {
   "cell_type": "markdown",
   "metadata": {
    "collapsed": false
   },
   "source": [
    "Next we are going to import them using pandas\n"
   ]
  },
  {
   "cell_type": "code",
   "execution_count": 5,
   "metadata": {
    "collapsed": false
   },
   "outputs": [
   ],
   "source": [
    "confirmed = pd.read_csv(\"./data/covid_confirmed_usafacts.csv\")\n",
    "deaths = pd.read_csv(\"./data/covid_deaths_usafacts.csv\")\n",
    "county_population = pd.read_csv(\"./data/covid_county_population_usafacts.csv\")"
   ]
  },
  {
   "cell_type": "markdown",
   "metadata": {
    "collapsed": false
   },
   "source": [
    "## Confirmed Cases\n",
    "\n"
   ]
  },
  {
   "cell_type": "code",
   "execution_count": 6,
   "metadata": {
    "collapsed": false
   },
   "outputs": [
    {
     "data": {
      "text/html": [
       "<div>\n",
       "<style scoped>\n",
       "    .dataframe tbody tr th:only-of-type {\n",
       "        vertical-align: middle;\n",
       "    }\n",
       "\n",
       "    .dataframe tbody tr th {\n",
       "        vertical-align: top;\n",
       "    }\n",
       "\n",
       "    .dataframe thead th {\n",
       "        text-align: right;\n",
       "    }\n",
       "</style>\n",
       "<table border=\"1\" class=\"dataframe\">\n",
       "  <thead>\n",
       "    <tr style=\"text-align: right;\">\n",
       "      <th></th>\n",
       "      <th>countyFIPS</th>\n",
       "      <th>County Name</th>\n",
       "      <th>State</th>\n",
       "      <th>StateFIPS</th>\n",
       "      <th>2020-01-22</th>\n",
       "      <th>2020-01-23</th>\n",
       "      <th>2020-01-24</th>\n",
       "      <th>2020-01-25</th>\n",
       "      <th>2020-01-26</th>\n",
       "      <th>2020-01-27</th>\n",
       "      <th>...</th>\n",
       "      <th>2023-07-14</th>\n",
       "      <th>2023-07-15</th>\n",
       "      <th>2023-07-16</th>\n",
       "      <th>2023-07-17</th>\n",
       "      <th>2023-07-18</th>\n",
       "      <th>2023-07-19</th>\n",
       "      <th>2023-07-20</th>\n",
       "      <th>2023-07-21</th>\n",
       "      <th>2023-07-22</th>\n",
       "      <th>2023-07-23</th>\n",
       "    </tr>\n",
       "  </thead>\n",
       "  <tbody>\n",
       "    <tr>\n",
       "      <th>0</th>\n",
       "      <td>0</td>\n",
       "      <td>Statewide Unallocated</td>\n",
       "      <td>AL</td>\n",
       "      <td>1</td>\n",
       "      <td>0</td>\n",
       "      <td>0</td>\n",
       "      <td>0</td>\n",
       "      <td>0</td>\n",
       "      <td>0</td>\n",
       "      <td>0</td>\n",
       "      <td>...</td>\n",
       "      <td>0</td>\n",
       "      <td>0</td>\n",
       "      <td>0</td>\n",
       "      <td>0</td>\n",
       "      <td>0</td>\n",
       "      <td>0</td>\n",
       "      <td>0</td>\n",
       "      <td>0</td>\n",
       "      <td>0</td>\n",
       "      <td>0</td>\n",
       "    </tr>\n",
       "    <tr>\n",
       "      <th>1</th>\n",
       "      <td>1001</td>\n",
       "      <td>Autauga County</td>\n",
       "      <td>AL</td>\n",
       "      <td>1</td>\n",
       "      <td>0</td>\n",
       "      <td>0</td>\n",
       "      <td>0</td>\n",
       "      <td>0</td>\n",
       "      <td>0</td>\n",
       "      <td>0</td>\n",
       "      <td>...</td>\n",
       "      <td>19913</td>\n",
       "      <td>19913</td>\n",
       "      <td>19913</td>\n",
       "      <td>19913</td>\n",
       "      <td>19913</td>\n",
       "      <td>19913</td>\n",
       "      <td>19913</td>\n",
       "      <td>19913</td>\n",
       "      <td>19913</td>\n",
       "      <td>19913</td>\n",
       "    </tr>\n",
       "    <tr>\n",
       "      <th>2</th>\n",
       "      <td>1003</td>\n",
       "      <td>Baldwin County</td>\n",
       "      <td>AL</td>\n",
       "      <td>1</td>\n",
       "      <td>0</td>\n",
       "      <td>0</td>\n",
       "      <td>0</td>\n",
       "      <td>0</td>\n",
       "      <td>0</td>\n",
       "      <td>0</td>\n",
       "      <td>...</td>\n",
       "      <td>70521</td>\n",
       "      <td>70521</td>\n",
       "      <td>70521</td>\n",
       "      <td>70521</td>\n",
       "      <td>70521</td>\n",
       "      <td>70521</td>\n",
       "      <td>70521</td>\n",
       "      <td>70521</td>\n",
       "      <td>70521</td>\n",
       "      <td>70521</td>\n",
       "    </tr>\n",
       "    <tr>\n",
       "      <th>3</th>\n",
       "      <td>1005</td>\n",
       "      <td>Barbour County</td>\n",
       "      <td>AL</td>\n",
       "      <td>1</td>\n",
       "      <td>0</td>\n",
       "      <td>0</td>\n",
       "      <td>0</td>\n",
       "      <td>0</td>\n",
       "      <td>0</td>\n",
       "      <td>0</td>\n",
       "      <td>...</td>\n",
       "      <td>7582</td>\n",
       "      <td>7582</td>\n",
       "      <td>7582</td>\n",
       "      <td>7582</td>\n",
       "      <td>7582</td>\n",
       "      <td>7582</td>\n",
       "      <td>7582</td>\n",
       "      <td>7582</td>\n",
       "      <td>7582</td>\n",
       "      <td>7582</td>\n",
       "    </tr>\n",
       "    <tr>\n",
       "      <th>4</th>\n",
       "      <td>1007</td>\n",
       "      <td>Bibb County</td>\n",
       "      <td>AL</td>\n",
       "      <td>1</td>\n",
       "      <td>0</td>\n",
       "      <td>0</td>\n",
       "      <td>0</td>\n",
       "      <td>0</td>\n",
       "      <td>0</td>\n",
       "      <td>0</td>\n",
       "      <td>...</td>\n",
       "      <td>8149</td>\n",
       "      <td>8149</td>\n",
       "      <td>8149</td>\n",
       "      <td>8149</td>\n",
       "      <td>8149</td>\n",
       "      <td>8149</td>\n",
       "      <td>8149</td>\n",
       "      <td>8149</td>\n",
       "      <td>8149</td>\n",
       "      <td>8149</td>\n",
       "    </tr>\n",
       "  </tbody>\n",
       "</table>\n",
       "<p>5 rows × 1269 columns</p>\n",
       "</div>"
      ],
      "text/plain": [
       "   countyFIPS            County Name State  StateFIPS  2020-01-22  2020-01-23  \\\n",
       "0           0  Statewide Unallocated    AL          1           0           0   \n",
       "1        1001        Autauga County     AL          1           0           0   \n",
       "2        1003        Baldwin County     AL          1           0           0   \n",
       "3        1005        Barbour County     AL          1           0           0   \n",
       "4        1007           Bibb County     AL          1           0           0   \n",
       "\n",
       "   2020-01-24  2020-01-25  2020-01-26  2020-01-27  ...  2023-07-14  \\\n",
       "0           0           0           0           0  ...           0   \n",
       "1           0           0           0           0  ...       19913   \n",
       "2           0           0           0           0  ...       70521   \n",
       "3           0           0           0           0  ...        7582   \n",
       "4           0           0           0           0  ...        8149   \n",
       "\n",
       "   2023-07-15  2023-07-16  2023-07-17  2023-07-18  2023-07-19  2023-07-20  \\\n",
       "0           0           0           0           0           0           0   \n",
       "1       19913       19913       19913       19913       19913       19913   \n",
       "2       70521       70521       70521       70521       70521       70521   \n",
       "3        7582        7582        7582        7582        7582        7582   \n",
       "4        8149        8149        8149        8149        8149        8149   \n",
       "\n",
       "   2023-07-21  2023-07-22  2023-07-23  \n",
       "0           0           0           0  \n",
       "1       19913       19913       19913  \n",
       "2       70521       70521       70521  \n",
       "3        7582        7582        7582  \n",
       "4        8149        8149        8149  \n",
       "\n",
       "[5 rows x 1269 columns]"
      ]
     },
     "execution_count": 6,
     "metadata": {
     },
     "output_type": "execute_result"
    }
   ],
   "source": [
    "confirmed.head()"
   ]
  },
  {
   "cell_type": "markdown",
   "metadata": {
    "collapsed": false
   },
   "source": [
    "We can see 4 columns:\n",
    "\n",
    "- the county FIPS, a unique identiyfier of the county\n",
    "- the writenout county name \n",
    "- the state abriviated with two letters\n",
    "- the stateFIPS, a unique identifier of the state\n",
    "\n",
    "Additionally, there is a column for every day starting from the 01/22/2020 to 07/23/2023 with the number of confirmed covid cases.\n",
    "\n",
    "Let's have a closer look at the identifiers.\n",
    "\n"
   ]
  },
  {
   "cell_type": "code",
   "execution_count": 11,
   "metadata": {
    "collapsed": false
   },
   "outputs": [
    {
     "name": "stdout",
     "output_type": "stream",
     "text": [
      "The column countyFIPS has 3143 unique counties listed, ranging from 0 to 56045.\n",
      "The column StateFIPS has 51 unique counties listed, ranging from 1 to 56.\n"
     ]
    }
   ],
   "source": [
    "# counties\n",
    "print(f\"The column countyFIPS has {len(confirmed.countyFIPS.unique())} unique counties listed, ranging from {min(confirmed.countyFIPS.unique())} to {max(confirmed.countyFIPS.unique())}.\")\n",
    "# states\n",
    "print(f\"The column StateFIPS has {len(confirmed.StateFIPS.unique())} unique states listed, ranging from {min(confirmed.StateFIPS.unique())} to {max(confirmed.StateFIPS.unique())}.\")"
   ]
  },
  {
   "cell_type": "markdown",
   "metadata": {
    "collapsed": false
   },
   "source": [
    "Finally we are going to hav a look at the actual data\n",
    "\n"
   ]
  },
  {
   "cell_type": "code",
   "execution_count": 24,
   "metadata": {
    "collapsed": false
   },
   "outputs": [
    {
     "name": "stdout",
     "output_type": "stream",
     "text": [
      "the date columns reach from 2020-01-22 to 2023-07-23.\n",
      "The vaules for the confirmed deaths reach from 0 to 3534088.\n"
     ]
    }
   ],
   "source": [
    "# get range of date\n",
    "print(f\"The date columns reach from {list(confirmed.columns)[4]} to {list(confirmed.columns)[-1]}.\")\n",
    "# get lowe4st and highest number\n",
    "temp_df = confirmed[list(confirmed.columns)[4:]]\n",
    "print(f\"The vaules for the confirmed deaths reach from {temp_df.to_numpy().min()} to {temp_df.to_numpy().max()}.\")"
   ]
  },
  {
   "cell_type": "markdown",
   "metadata": {
    "collapsed": false
   },
   "source": [
    "## Deaths\n",
    "\n"
   ]
  },
  {
   "cell_type": "code",
   "execution_count": 25,
   "metadata": {
    "collapsed": false
   },
   "outputs": [
    {
     "data": {
      "text/html": [
       "<div>\n",
       "<style scoped>\n",
       "    .dataframe tbody tr th:only-of-type {\n",
       "        vertical-align: middle;\n",
       "    }\n",
       "\n",
       "    .dataframe tbody tr th {\n",
       "        vertical-align: top;\n",
       "    }\n",
       "\n",
       "    .dataframe thead th {\n",
       "        text-align: right;\n",
       "    }\n",
       "</style>\n",
       "<table border=\"1\" class=\"dataframe\">\n",
       "  <thead>\n",
       "    <tr style=\"text-align: right;\">\n",
       "      <th></th>\n",
       "      <th>countyFIPS</th>\n",
       "      <th>County Name</th>\n",
       "      <th>State</th>\n",
       "      <th>StateFIPS</th>\n",
       "      <th>2020-01-22</th>\n",
       "      <th>2020-01-23</th>\n",
       "      <th>2020-01-24</th>\n",
       "      <th>2020-01-25</th>\n",
       "      <th>2020-01-26</th>\n",
       "      <th>2020-01-27</th>\n",
       "      <th>...</th>\n",
       "      <th>2023-07-14</th>\n",
       "      <th>2023-07-15</th>\n",
       "      <th>2023-07-16</th>\n",
       "      <th>2023-07-17</th>\n",
       "      <th>2023-07-18</th>\n",
       "      <th>2023-07-19</th>\n",
       "      <th>2023-07-20</th>\n",
       "      <th>2023-07-21</th>\n",
       "      <th>2023-07-22</th>\n",
       "      <th>2023-07-23</th>\n",
       "    </tr>\n",
       "  </thead>\n",
       "  <tbody>\n",
       "    <tr>\n",
       "      <th>0</th>\n",
       "      <td>0</td>\n",
       "      <td>Statewide Unallocated</td>\n",
       "      <td>AL</td>\n",
       "      <td>1</td>\n",
       "      <td>0</td>\n",
       "      <td>0</td>\n",
       "      <td>0</td>\n",
       "      <td>0</td>\n",
       "      <td>0</td>\n",
       "      <td>0</td>\n",
       "      <td>...</td>\n",
       "      <td>0</td>\n",
       "      <td>0</td>\n",
       "      <td>0</td>\n",
       "      <td>0</td>\n",
       "      <td>0</td>\n",
       "      <td>0</td>\n",
       "      <td>0</td>\n",
       "      <td>0</td>\n",
       "      <td>0</td>\n",
       "      <td>0</td>\n",
       "    </tr>\n",
       "    <tr>\n",
       "      <th>1</th>\n",
       "      <td>1001</td>\n",
       "      <td>Autauga County</td>\n",
       "      <td>AL</td>\n",
       "      <td>1</td>\n",
       "      <td>0</td>\n",
       "      <td>0</td>\n",
       "      <td>0</td>\n",
       "      <td>0</td>\n",
       "      <td>0</td>\n",
       "      <td>0</td>\n",
       "      <td>...</td>\n",
       "      <td>235</td>\n",
       "      <td>235</td>\n",
       "      <td>235</td>\n",
       "      <td>235</td>\n",
       "      <td>235</td>\n",
       "      <td>235</td>\n",
       "      <td>235</td>\n",
       "      <td>235</td>\n",
       "      <td>235</td>\n",
       "      <td>235</td>\n",
       "    </tr>\n",
       "    <tr>\n",
       "      <th>2</th>\n",
       "      <td>1003</td>\n",
       "      <td>Baldwin County</td>\n",
       "      <td>AL</td>\n",
       "      <td>1</td>\n",
       "      <td>0</td>\n",
       "      <td>0</td>\n",
       "      <td>0</td>\n",
       "      <td>0</td>\n",
       "      <td>0</td>\n",
       "      <td>0</td>\n",
       "      <td>...</td>\n",
       "      <td>731</td>\n",
       "      <td>731</td>\n",
       "      <td>731</td>\n",
       "      <td>731</td>\n",
       "      <td>731</td>\n",
       "      <td>731</td>\n",
       "      <td>731</td>\n",
       "      <td>731</td>\n",
       "      <td>731</td>\n",
       "      <td>731</td>\n",
       "    </tr>\n",
       "    <tr>\n",
       "      <th>3</th>\n",
       "      <td>1005</td>\n",
       "      <td>Barbour County</td>\n",
       "      <td>AL</td>\n",
       "      <td>1</td>\n",
       "      <td>0</td>\n",
       "      <td>0</td>\n",
       "      <td>0</td>\n",
       "      <td>0</td>\n",
       "      <td>0</td>\n",
       "      <td>0</td>\n",
       "      <td>...</td>\n",
       "      <td>104</td>\n",
       "      <td>104</td>\n",
       "      <td>104</td>\n",
       "      <td>104</td>\n",
       "      <td>104</td>\n",
       "      <td>104</td>\n",
       "      <td>104</td>\n",
       "      <td>104</td>\n",
       "      <td>104</td>\n",
       "      <td>104</td>\n",
       "    </tr>\n",
       "    <tr>\n",
       "      <th>4</th>\n",
       "      <td>1007</td>\n",
       "      <td>Bibb County</td>\n",
       "      <td>AL</td>\n",
       "      <td>1</td>\n",
       "      <td>0</td>\n",
       "      <td>0</td>\n",
       "      <td>0</td>\n",
       "      <td>0</td>\n",
       "      <td>0</td>\n",
       "      <td>0</td>\n",
       "      <td>...</td>\n",
       "      <td>111</td>\n",
       "      <td>111</td>\n",
       "      <td>111</td>\n",
       "      <td>111</td>\n",
       "      <td>111</td>\n",
       "      <td>111</td>\n",
       "      <td>111</td>\n",
       "      <td>111</td>\n",
       "      <td>111</td>\n",
       "      <td>111</td>\n",
       "    </tr>\n",
       "  </tbody>\n",
       "</table>\n",
       "<p>5 rows × 1269 columns</p>\n",
       "</div>"
      ],
      "text/plain": [
       "   countyFIPS            County Name State  StateFIPS  2020-01-22  2020-01-23  \\\n",
       "0           0  Statewide Unallocated    AL          1           0           0   \n",
       "1        1001        Autauga County     AL          1           0           0   \n",
       "2        1003        Baldwin County     AL          1           0           0   \n",
       "3        1005        Barbour County     AL          1           0           0   \n",
       "4        1007           Bibb County     AL          1           0           0   \n",
       "\n",
       "   2020-01-24  2020-01-25  2020-01-26  2020-01-27  ...  2023-07-14  \\\n",
       "0           0           0           0           0  ...           0   \n",
       "1           0           0           0           0  ...         235   \n",
       "2           0           0           0           0  ...         731   \n",
       "3           0           0           0           0  ...         104   \n",
       "4           0           0           0           0  ...         111   \n",
       "\n",
       "   2023-07-15  2023-07-16  2023-07-17  2023-07-18  2023-07-19  2023-07-20  \\\n",
       "0           0           0           0           0           0           0   \n",
       "1         235         235         235         235         235         235   \n",
       "2         731         731         731         731         731         731   \n",
       "3         104         104         104         104         104         104   \n",
       "4         111         111         111         111         111         111   \n",
       "\n",
       "   2023-07-21  2023-07-22  2023-07-23  \n",
       "0           0           0           0  \n",
       "1         235         235         235  \n",
       "2         731         731         731  \n",
       "3         104         104         104  \n",
       "4         111         111         111  \n",
       "\n",
       "[5 rows x 1269 columns]"
      ]
     },
     "execution_count": 25,
     "metadata": {
     },
     "output_type": "execute_result"
    }
   ],
   "source": [
    "deaths.head()"
   ]
  },
  {
   "cell_type": "markdown",
   "metadata": {
    "collapsed": false
   },
   "source": [
    "Similarly to confirmed cases, we can see 4 columns:\n",
    "\n",
    "- the county FIPS, a unique identiyfier of the county\n",
    "- the writenout county name \n",
    "- the state abriviated with two letters\n",
    "- the stateFIPS, a unique identifier of the state\n",
    "\n",
    "Additionally, there is a column for every day starting from the 01/22/2020 to 07/23/2023 with the number of confirmed covid cases.\n",
    "\n",
    "Let's have a closer look at the identifiers.\n",
    "\n"
   ]
  },
  {
   "cell_type": "code",
   "execution_count": 26,
   "metadata": {
    "collapsed": false
   },
   "outputs": [
    {
     "name": "stdout",
     "output_type": "stream",
     "text": [
      "The column countyFIPS has 3143 unique counties listed, ranging from 0 to 56045.\n",
      "The column StateFIPS has 51 unique counties listed, ranging from 1 to 56.\n"
     ]
    }
   ],
   "source": [
    "# counties\n",
    "print(f\"The column countyFIPS has {len(deaths.countyFIPS.unique())} unique counties listed, ranging from {min(deaths.countyFIPS.unique())} to {max(deaths.countyFIPS.unique())}.\")\n",
    "# states\n",
    "print(f\"The column StateFIPS has {len(deaths.StateFIPS.unique())} unique states listed, ranging from {min(deaths.StateFIPS.unique())} to {max(deaths.StateFIPS.unique())}.\")"
   ]
  },
  {
   "cell_type": "markdown",
   "metadata": {
    "collapsed": false
   },
   "source": [
    "Finally we are going to hav a look at the actual data\n"
   ]
  },
  {
   "cell_type": "code",
   "execution_count": 28,
   "metadata": {
    "collapsed": false
   },
   "outputs": [
    {
     "name": "stdout",
     "output_type": "stream",
     "text": [
      "The date columns reach from 2020-01-22 to 2023-07-23.\n",
      "The vaules for the confirmed deaths reach from -6 to 52102.\n"
     ]
    }
   ],
   "source": [
    "# get range of date\n",
    "print(f\"The date columns reach from {list(deaths.columns)[4]} to {list(deaths.columns)[-1]}.\")\n",
    "# get lowe4st and highest number\n",
    "temp_df = deaths[list(deaths.columns)[4:]]\n",
    "print(f\"The vaules for the confirmed deaths reach from {temp_df.to_numpy().min()} to {temp_df.to_numpy().max()}.\")"
   ]
  },
  {
   "cell_type": "markdown",
   "metadata": {
    "collapsed": false
   },
   "source": [
    "We can see that we need to look into why there are negative deaths in the data set.\n"
   ]
  },
  {
   "cell_type": "markdown",
   "metadata": {
    "collapsed": false
   },
   "source": [
    "## County population\n",
    "\n"
   ]
  },
  {
   "cell_type": "code",
   "execution_count": 29,
   "metadata": {
    "collapsed": false
   },
   "outputs": [
    {
     "data": {
      "text/html": [
       "<div>\n",
       "<style scoped>\n",
       "    .dataframe tbody tr th:only-of-type {\n",
       "        vertical-align: middle;\n",
       "    }\n",
       "\n",
       "    .dataframe tbody tr th {\n",
       "        vertical-align: top;\n",
       "    }\n",
       "\n",
       "    .dataframe thead th {\n",
       "        text-align: right;\n",
       "    }\n",
       "</style>\n",
       "<table border=\"1\" class=\"dataframe\">\n",
       "  <thead>\n",
       "    <tr style=\"text-align: right;\">\n",
       "      <th></th>\n",
       "      <th>countyFIPS</th>\n",
       "      <th>County Name</th>\n",
       "      <th>State</th>\n",
       "      <th>population</th>\n",
       "    </tr>\n",
       "  </thead>\n",
       "  <tbody>\n",
       "    <tr>\n",
       "      <th>0</th>\n",
       "      <td>0</td>\n",
       "      <td>Statewide Unallocated</td>\n",
       "      <td>AL</td>\n",
       "      <td>0</td>\n",
       "    </tr>\n",
       "    <tr>\n",
       "      <th>1</th>\n",
       "      <td>1001</td>\n",
       "      <td>Autauga County</td>\n",
       "      <td>AL</td>\n",
       "      <td>55869</td>\n",
       "    </tr>\n",
       "    <tr>\n",
       "      <th>2</th>\n",
       "      <td>1003</td>\n",
       "      <td>Baldwin County</td>\n",
       "      <td>AL</td>\n",
       "      <td>223234</td>\n",
       "    </tr>\n",
       "    <tr>\n",
       "      <th>3</th>\n",
       "      <td>1005</td>\n",
       "      <td>Barbour County</td>\n",
       "      <td>AL</td>\n",
       "      <td>24686</td>\n",
       "    </tr>\n",
       "    <tr>\n",
       "      <th>4</th>\n",
       "      <td>1007</td>\n",
       "      <td>Bibb County</td>\n",
       "      <td>AL</td>\n",
       "      <td>22394</td>\n",
       "    </tr>\n",
       "  </tbody>\n",
       "</table>\n",
       "</div>"
      ],
      "text/plain": [
       "   countyFIPS            County Name State  population\n",
       "0           0  Statewide Unallocated    AL           0\n",
       "1        1001         Autauga County    AL       55869\n",
       "2        1003         Baldwin County    AL      223234\n",
       "3        1005         Barbour County    AL       24686\n",
       "4        1007            Bibb County    AL       22394"
      ]
     },
     "execution_count": 29,
     "metadata": {
     },
     "output_type": "execute_result"
    }
   ],
   "source": [
    "county_population.head()"
   ]
  },
  {
   "cell_type": "markdown",
   "metadata": {
    "collapsed": false
   },
   "source": [
    "Similarly to confirmed cases, we can see 43columns:\n",
    "\n",
    "- the county FIPS, a unique identiyfier of the county\n",
    "- the writenout county name \n",
    "- the state abriviated with two letters\n",
    "\n",
    "Intersetingly, the column StateFIPS does not exists in this dataset\n",
    "\n",
    "Additionally, there is a column  with the population of the county.\n",
    "\n",
    "Let's have a closer look at the identifiers.\n",
    "\n"
   ]
  },
  {
   "cell_type": "code",
   "execution_count": 31,
   "metadata": {
    "collapsed": false
   },
   "outputs": [
    {
     "name": "stdout",
     "output_type": "stream",
     "text": [
      "The column countyFIPS has 3145 unique counties listed, ranging from 0 to 56045.\n",
      "The column StateFIPS has 51 unique counties listed.\n"
     ]
    }
   ],
   "source": [
    "# counties\n",
    "print(f\"The column countyFIPS has {len(county_population.countyFIPS.unique())} unique counties listed, ranging from {min(deaths.countyFIPS.unique())} to {max(county_population.countyFIPS.unique())}.\")\n",
    "# states\n",
    "print(f\"The column StateFIPS has {len(county_population.State.unique())} unique states listed.\")"
   ]
  },
  {
   "cell_type": "code",
   "execution_count": 33,
   "metadata": {
    "collapsed": false
   },
   "outputs": [
    {
     "name": "stdout",
     "output_type": "stream",
     "text": [
      "The vaules for the confirmed deaths reach from 0 to 10039107.\n"
     ]
    }
   ],
   "source": [
    "print(f\"The vaules for the confirmed deaths reach from {county_population['population'].to_numpy().min()} to {county_population['population'].to_numpy().max()}.\")"
   ]
  },
  {
   "cell_type": "code",
   "execution_count": 0,
   "metadata": {
    "collapsed": false
   },
   "outputs": [
   ],
   "source": [
   ]
  }
 ],
 "metadata": {
  "kernelspec": {
   "display_name": "python3",
   "env": {
   },
   "language": "python",
   "name": "python3",
   "resource_dir": "/projects/af076c66-cfc6-44f8-8414-03013b9beb69/.local/share/jupyter/kernels/python3"
  },
  "language_info": {
   "codemirror_mode": {
    "name": "ipython",
    "version": 3
   },
   "file_extension": ".py",
   "mimetype": "text/x-python",
   "name": "python",
   "nbconvert_exporter": "python",
   "pygments_lexer": "ipython3",
   "version": "3.10.6"
  }
 },
 "nbformat": 4,
 "nbformat_minor": 4
}