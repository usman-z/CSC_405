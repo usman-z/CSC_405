{
 "cells": [
  {
   "cell_type": "code",
   "execution_count": 15,
   "id": "9c7e0d11",
   "metadata": {},
   "outputs": [],
   "source": [
    "# Import Pandas\n",
    "import pandas as pd\n",
    "\n",
    "# Load Election dataset\n",
    "electionMB = pd.read_csv('president_county.csv')\n",
    "\n",
    "# Load COVID-19 dataset\n",
    "covidMB = pd.read_csv('covid_deaths_usafacts.csv')"
   ]
  },
  {
   "cell_type": "code",
   "execution_count": 18,
   "id": "9fdaf798",
   "metadata": {},
   "outputs": [
    {
     "name": "stdout",
     "output_type": "stream",
     "text": [
      "Election Data Head:\n",
      "                  state                county  current_votes  total_votes  \\\n",
      "0              Delaware           Kent County          87025        87025   \n",
      "1              Delaware     New Castle County         287633       287633   \n",
      "2              Delaware         Sussex County         129352       129352   \n",
      "3  District of Columbia  District of Columbia          41681        41681   \n",
      "4  District of Columbia                Ward 2          32881        32881   \n",
      "\n",
      "   percent  \n",
      "0      100  \n",
      "1      100  \n",
      "2      100  \n",
      "3      100  \n",
      "4      100  \n",
      "\n",
      "\n",
      "Election Datatypes:\n",
      "state            object\n",
      "county           object\n",
      "current_votes     int64\n",
      "total_votes       int64\n",
      "percent           int64\n",
      "dtype: object\n"
     ]
    }
   ],
   "source": [
    "# Print election dataset head\n",
    "print(\"Election Data Head:\")\n",
    "print(electionMB.head())\n",
    "\n",
    "print()\n",
    "print()\n",
    "\n",
    "\n",
    "# Print the election dataset column types\n",
    "print(\"Election Datatypes:\")\n",
    "print(electionMB.dtypes)"
   ]
  },
  {
   "cell_type": "code",
   "execution_count": 20,
   "id": "2b223955",
   "metadata": {},
   "outputs": [
    {
     "name": "stdout",
     "output_type": "stream",
     "text": [
      "COVID-19 Data Head:\n",
      "   countyFIPS            County Name State  StateFIPS  2020-01-22  2020-01-23  \\\n",
      "0           0  Statewide Unallocated    AL          1           0           0   \n",
      "1        1001        Autauga County     AL          1           0           0   \n",
      "2        1003        Baldwin County     AL          1           0           0   \n",
      "3        1005        Barbour County     AL          1           0           0   \n",
      "4        1007           Bibb County     AL          1           0           0   \n",
      "\n",
      "   2020-01-24  2020-01-25  2020-01-26  2020-01-27  ...  2023-07-14  \\\n",
      "0           0           0           0           0  ...           0   \n",
      "1           0           0           0           0  ...         235   \n",
      "2           0           0           0           0  ...         731   \n",
      "3           0           0           0           0  ...         104   \n",
      "4           0           0           0           0  ...         111   \n",
      "\n",
      "   2023-07-15  2023-07-16  2023-07-17  2023-07-18  2023-07-19  2023-07-20  \\\n",
      "0           0           0           0           0           0           0   \n",
      "1         235         235         235         235         235         235   \n",
      "2         731         731         731         731         731         731   \n",
      "3         104         104         104         104         104         104   \n",
      "4         111         111         111         111         111         111   \n",
      "\n",
      "   2023-07-21  2023-07-22  2023-07-23  \n",
      "0           0           0           0  \n",
      "1         235         235         235  \n",
      "2         731         731         731  \n",
      "3         104         104         104  \n",
      "4         111         111         111  \n",
      "\n",
      "[5 rows x 1269 columns]\n",
      "\n",
      "COVID-19 Datatypes:\n",
      "countyFIPS      int64\n",
      "County Name    object\n",
      "State          object\n",
      "StateFIPS       int64\n",
      "2020-01-22      int64\n",
      "                ...  \n",
      "2023-07-19      int64\n",
      "2023-07-20      int64\n",
      "2023-07-21      int64\n",
      "2023-07-22      int64\n",
      "2023-07-23      int64\n",
      "Length: 1269, dtype: object\n"
     ]
    }
   ],
   "source": [
    "# Print Covid dataset head\n",
    "print(\"COVID-19 Data Head:\")\n",
    "print(covidMB.head())\n",
    "\n",
    "print()\n",
    "\n",
    "# Print the Covid dataset column types\n",
    "print(\"COVID-19 Datatypes:\")\n",
    "print(covidMB.dtypes)"
   ]
  },
  {
   "cell_type": "markdown",
   "id": "ea397943",
   "metadata": {},
   "source": []
  }
 ],
 "metadata": {
  "kernelspec": {
   "display_name": "Python 3 (ipykernel)",
   "language": "python",
   "name": "python3"
  },
  "language_info": {
   "codemirror_mode": {
    "name": "ipython",
    "version": 3
   },
   "file_extension": ".py",
   "mimetype": "text/x-python",
   "name": "python",
   "nbconvert_exporter": "python",
   "pygments_lexer": "ipython3",
   "version": "3.11.4"
  }
 },
 "nbformat": 4,
 "nbformat_minor": 5
}
