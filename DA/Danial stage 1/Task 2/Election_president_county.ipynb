{
 "cells": [
  {
   "cell_type": "code",
   "execution_count": 7,
   "id": "feb0e1c7",
   "metadata": {},
   "outputs": [],
   "source": [
    "# Import Pandas\n",
    "import pandas as pd\n",
    "\n",
    "# Read the CSV\n",
    "mb = pd.read_csv('president_county.csv')"
   ]
  },
  {
   "cell_type": "code",
   "execution_count": 8,
   "id": "648a6255",
   "metadata": {},
   "outputs": [
    {
     "name": "stdout",
     "output_type": "stream",
     "text": [
      "Head:\n",
      "                  state                county  current_votes  total_votes  \\\n",
      "0              Delaware           Kent County          87025        87025   \n",
      "1              Delaware     New Castle County         287633       287633   \n",
      "2              Delaware         Sussex County         129352       129352   \n",
      "3  District of Columbia  District of Columbia          41681        41681   \n",
      "4  District of Columbia                Ward 2          32881        32881   \n",
      "\n",
      "   percent  \n",
      "0      100  \n",
      "1      100  \n",
      "2      100  \n",
      "3      100  \n",
      "4      100  \n",
      "\n",
      "Datatypes:\n",
      "state            object\n",
      "county           object\n",
      "current_votes     int64\n",
      "total_votes       int64\n",
      "percent           int64\n",
      "dtype: object\n"
     ]
    }
   ],
   "source": [
    "# Print the dataset\n",
    "print(\"Head:\")\n",
    "print(mb.head())\n",
    "\n",
    "print()\n",
    "\n",
    "# Print the dataset column types\n",
    "print(\"Datatypes:\")\n",
    "print(mb.dtypes)"
   ]
  },
  {
   "cell_type": "code",
   "execution_count": null,
   "id": "07dba915",
   "metadata": {},
   "outputs": [],
   "source": []
  },
  {
   "cell_type": "code",
   "execution_count": null,
   "id": "11de06a0",
   "metadata": {},
   "outputs": [],
   "source": []
  }
 ],
 "metadata": {
  "kernelspec": {
   "display_name": "Python 3 (ipykernel)",
   "language": "python",
   "name": "python3"
  },
  "language_info": {
   "codemirror_mode": {
    "name": "ipython",
    "version": 3
   },
   "file_extension": ".py",
   "mimetype": "text/x-python",
   "name": "python",
   "nbconvert_exporter": "python",
   "pygments_lexer": "ipython3",
   "version": "3.11.4"
  }
 },
 "nbformat": 4,
 "nbformat_minor": 5
}
