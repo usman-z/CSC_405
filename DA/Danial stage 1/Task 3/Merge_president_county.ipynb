{
 "cells": [
  {
   "cell_type": "code",
   "execution_count": 2,
   "id": "9c7e0d11",
   "metadata": {},
   "outputs": [],
   "source": [
    "# Import Pandas\n",
    "import pandas as pd\n",
    "\n",
    "# Load Election dataset\n",
    "electionMB = pd.read_csv('president_county.csv')\n",
    "\n",
    "# Load COVID-19 dataset\n",
    "covidMB = pd.read_csv('covid_deaths_usafacts.csv')\n"
   ]
  },
  {
   "cell_type": "markdown",
   "id": "be07fc2f",
   "metadata": {},
   "source": [
    "# Show head and datatypes of each dataset (president_county and covid_deaths_usafacts.csv)"
   ]
  },
  {
   "cell_type": "code",
   "execution_count": 3,
   "id": "9fdaf798",
   "metadata": {},
   "outputs": [
    {
     "name": "stdout",
     "output_type": "stream",
     "text": [
      "Election Data Head:\n",
      "                  state                county  current_votes  total_votes  \\\n",
      "0              Delaware           Kent County          87025        87025   \n",
      "1              Delaware     New Castle County         287633       287633   \n",
      "2              Delaware         Sussex County         129352       129352   \n",
      "3  District of Columbia  District of Columbia          41681        41681   \n",
      "4  District of Columbia                Ward 2          32881        32881   \n",
      "\n",
      "   percent  \n",
      "0      100  \n",
      "1      100  \n",
      "2      100  \n",
      "3      100  \n",
      "4      100  \n",
      "\n",
      "\n",
      "Election Datatypes:\n",
      "state            object\n",
      "county           object\n",
      "current_votes     int64\n",
      "total_votes       int64\n",
      "percent           int64\n",
      "dtype: object\n"
     ]
    }
   ],
   "source": [
    "# Print election dataset head\n",
    "print(\"Election Data Head:\")\n",
    "print(electionMB.head())\n",
    "\n",
    "print()\n",
    "print()\n",
    "\n",
    "\n",
    "# Print the election dataset column types\n",
    "print(\"Election Datatypes:\")\n",
    "print(electionMB.dtypes)"
   ]
  },
  {
   "cell_type": "code",
   "execution_count": 4,
   "id": "2b223955",
   "metadata": {},
   "outputs": [
    {
     "name": "stdout",
     "output_type": "stream",
     "text": [
      "COVID-19 Data Head:\n",
      "   countyFIPS            County Name State  StateFIPS  2020-01-22  2020-01-23  \\\n",
      "0           0  Statewide Unallocated    AL          1           0           0   \n",
      "1        1001        Autauga County     AL          1           0           0   \n",
      "2        1003        Baldwin County     AL          1           0           0   \n",
      "3        1005        Barbour County     AL          1           0           0   \n",
      "4        1007           Bibb County     AL          1           0           0   \n",
      "\n",
      "   2020-01-24  2020-01-25  2020-01-26  2020-01-27  ...  2023-07-14  \\\n",
      "0           0           0           0           0  ...           0   \n",
      "1           0           0           0           0  ...         235   \n",
      "2           0           0           0           0  ...         731   \n",
      "3           0           0           0           0  ...         104   \n",
      "4           0           0           0           0  ...         111   \n",
      "\n",
      "   2023-07-15  2023-07-16  2023-07-17  2023-07-18  2023-07-19  2023-07-20  \\\n",
      "0           0           0           0           0           0           0   \n",
      "1         235         235         235         235         235         235   \n",
      "2         731         731         731         731         731         731   \n",
      "3         104         104         104         104         104         104   \n",
      "4         111         111         111         111         111         111   \n",
      "\n",
      "   2023-07-21  2023-07-22  2023-07-23  \n",
      "0           0           0           0  \n",
      "1         235         235         235  \n",
      "2         731         731         731  \n",
      "3         104         104         104  \n",
      "4         111         111         111  \n",
      "\n",
      "[5 rows x 1269 columns]\n",
      "\n",
      "COVID-19 Datatypes:\n",
      "countyFIPS      int64\n",
      "County Name    object\n",
      "State          object\n",
      "StateFIPS       int64\n",
      "2020-01-22      int64\n",
      "                ...  \n",
      "2023-07-19      int64\n",
      "2023-07-20      int64\n",
      "2023-07-21      int64\n",
      "2023-07-22      int64\n",
      "2023-07-23      int64\n",
      "Length: 1269, dtype: object\n"
     ]
    }
   ],
   "source": [
    "# Print Covid dataset head\n",
    "print(\"COVID-19 Data Head:\")\n",
    "print(covidMB.head())\n",
    "\n",
    "print()\n",
    "\n",
    "# Print the Covid dataset column types\n",
    "print(\"COVID-19 Datatypes:\")\n",
    "print(covidMB.dtypes)"
   ]
  },
  {
   "cell_type": "markdown",
   "id": "523adad9",
   "metadata": {},
   "source": [
    "# Calculate COVID-19 data trends for the last week of the data\n",
    "\n",
    "### State Chosen: NEW YORK (NY)"
   ]
  },
  {
   "cell_type": "code",
   "execution_count": 7,
   "id": "42669c08",
   "metadata": {},
   "outputs": [
    {
     "name": "stdout",
     "output_type": "stream",
     "text": [
      "2023-07-17    77681\n",
      "2023-07-18    77681\n",
      "2023-07-19    77681\n",
      "2023-07-20    77423\n",
      "2023-07-21    77423\n",
      "2023-07-22    77423\n",
      "2023-07-23    77423\n",
      "dtype: int64\n"
     ]
    }
   ],
   "source": [
    "# Show the case data for the last week for the state of NEW YORK\n",
    "ny_data = covidMB.loc[covidMB['State'] == 'NY']\n",
    "ny_data.head()\n",
    "\n",
    "# Get the last 7 days of the ny data\n",
    "week_data = ny_data.iloc[:, -7:]\n",
    "#print(week_data)\n",
    "\n",
    "# Get the sum of each day\n",
    "week_sum = week_data.sum()\n",
    "print(week_sum)"
   ]
  },
  {
   "cell_type": "code",
   "execution_count": 8,
   "id": "4486e5d1",
   "metadata": {},
   "outputs": [
    {
     "name": "stdout",
     "output_type": "stream",
     "text": [
      "Empty DataFrame\n",
      "Columns: [countyFIPS, County Name, State, StateFIPS, 2020-01-22, 2020-01-23, 2020-01-24, 2020-01-25, 2020-01-26, 2020-01-27, 2020-01-28, 2020-01-29, 2020-01-30, 2020-01-31, 2020-02-01, 2020-02-02, 2020-02-03, 2020-02-04, 2020-02-05, 2020-02-06, 2020-02-07, 2020-02-08, 2020-02-09, 2020-02-10, 2020-02-11, 2020-02-12, 2020-02-13, 2020-02-14, 2020-02-15, 2020-02-16, 2020-02-17, 2020-02-18, 2020-02-19, 2020-02-20, 2020-02-21, 2020-02-22, 2020-02-23, 2020-02-24, 2020-02-25, 2020-02-26, 2020-02-27, 2020-02-28, 2020-02-29, 2020-03-01, 2020-03-02, 2020-03-03, 2020-03-04, 2020-03-05, 2020-03-06, 2020-03-07, 2020-03-08, 2020-03-09, 2020-03-10, 2020-03-11, 2020-03-12, 2020-03-13, 2020-03-14, 2020-03-15, 2020-03-16, 2020-03-17, 2020-03-18, 2020-03-19, 2020-03-20, 2020-03-21, 2020-03-22, 2020-03-23, 2020-03-24, 2020-03-25, 2020-03-26, 2020-03-27, 2020-03-28, 2020-03-29, 2020-03-30, 2020-03-31, 2020-04-01, 2020-04-02, 2020-04-03, 2020-04-04, 2020-04-05, 2020-04-06, 2020-04-07, 2020-04-08, 2020-04-09, 2020-04-10, 2020-04-11, 2020-04-12, 2020-04-13, 2020-04-14, 2020-04-15, 2020-04-16, 2020-04-17, 2020-04-18, 2020-04-19, 2020-04-20, 2020-04-21, 2020-04-22, 2020-04-23, 2020-04-24, 2020-04-25, 2020-04-26, ...]\n",
      "Index: []\n",
      "\n",
      "[0 rows x 1273 columns]\n"
     ]
    }
   ],
   "source": [
    "# Rename 'county' to 'County Name' to match COVID-19 column title\n",
    "electionMB = electionMB.rename(columns={'county': 'County Name'})\n",
    "\n",
    "# Join on 'County Name' column\n",
    "finalMB = pd.merge(covidMB, electionMB, on='County Name')\n",
    "print(finalMB)"
   ]
  },
  {
   "cell_type": "markdown",
   "id": "574537b7",
   "metadata": {},
   "source": [
    "# Task 3 Report\n",
    "\n",
    "### Calculate COVID-19 data trends for the last week of the data. Are the cases increasing, decreasing, or stable?\n",
    "\n",
    "#### Looking at the week July 17, 2023 to July 23, 2023 it appears that the number of COVID-19 Deaths are going down. This means the data trend for the last week of the data is Decreasing.\n"
   ]
  },
  {
   "cell_type": "code",
   "execution_count": null,
   "id": "c12e889c",
   "metadata": {},
   "outputs": [],
   "source": []
  }
 ],
 "metadata": {
  "kernelspec": {
   "display_name": "Python 3 (ipykernel)",
   "language": "python",
   "name": "python3"
  },
  "language_info": {
   "codemirror_mode": {
    "name": "ipython",
    "version": 3
   },
   "file_extension": ".py",
   "mimetype": "text/x-python",
   "name": "python",
   "nbconvert_exporter": "python",
   "pygments_lexer": "ipython3",
   "version": "3.11.4"
  }
 },
 "nbformat": 4,
 "nbformat_minor": 5
}
