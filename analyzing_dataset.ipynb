{
 "cells": [
  {
   "cell_type": "markdown",
   "metadata": {
    "collapsed": false
   },
   "source": [
    "# Task Two:\n",
    "\n",
    "This notebook is intendented to analyze the given COVID\\-19 Dataset, with the goal of creating a description and vraible dictionary\n"
   ]
  },
  {
   "cell_type": "markdown",
   "metadata": {
    "collapsed": false
   },
   "source": [
    "First we download the data to the local maschine\n"
   ]
  },
  {
   "cell_type": "code",
   "execution_count": 3,
   "metadata": {
    "collapsed": false
   },
   "outputs": [
    {
     "name": "stdout",
     "output_type": "stream",
     "text": [
      "--2023-09-18 03:59:26--  https://static.usafacts.org/public/data/covid-19/covid_confirmed_usafacts.csv\r\n",
      "Resolving static.usafacts.org (static.usafacts.org)... 104.18.10.66, 104.18.11.66, 2606:4700::6812:a42, ...\r\n",
      "Connecting to static.usafacts.org (static.usafacts.org)|104.18.10.66|:443... connected.\r\n"
     ]
    },
    {
     "name": "stdout",
     "output_type": "stream",
     "text": [
      "HTTP request sent, awaiting response... "
     ]
    },
    {
     "name": "stdout",
     "output_type": "stream",
     "text": [
      "200 OK\r\n",
      "Length: 19106921 (18M) [application/octet-stream]\r\n",
      "Saving to: ‘data/covid_confirmed_usafacts.csv.1’\r\n",
      "\r\n",
      "\r          covid_con   0%[                    ]       0  --.-KB/s               "
     ]
    },
    {
     "name": "stdout",
     "output_type": "stream",
     "text": [
      "\r         covid_conf   6%[>                   ]   1.27M  6.31MB/s               "
     ]
    },
    {
     "name": "stdout",
     "output_type": "stream",
     "text": [
      "\r        covid_confi  14%[=>                  ]   2.68M  6.65MB/s               "
     ]
    },
    {
     "name": "stdout",
     "output_type": "stream",
     "text": [
      "\r       covid_confir  22%[===>                ]   4.08M  6.75MB/s               "
     ]
    },
    {
     "name": "stdout",
     "output_type": "stream",
     "text": [
      "\r      covid_confirm  30%[=====>              ]   5.49M  6.81MB/s               "
     ]
    },
    {
     "name": "stdout",
     "output_type": "stream",
     "text": [
      "\r     covid_confirme  37%[======>             ]   6.90M  6.84MB/s               "
     ]
    },
    {
     "name": "stdout",
     "output_type": "stream",
     "text": [
      "\r    covid_confirmed  45%[========>           ]   8.30M  6.87MB/s               "
     ]
    },
    {
     "name": "stdout",
     "output_type": "stream",
     "text": [
      "\r   covid_confirmed_  53%[=========>          ]   9.71M  6.88MB/s               "
     ]
    },
    {
     "name": "stdout",
     "output_type": "stream",
     "text": [
      "\r  covid_confirmed_u  61%[===========>        ]  11.12M  6.89MB/s               "
     ]
    },
    {
     "name": "stdout",
     "output_type": "stream",
     "text": [
      "\r covid_confirmed_us  68%[============>       ]  12.52M  6.90MB/s               "
     ]
    },
    {
     "name": "stdout",
     "output_type": "stream",
     "text": [
      "\rcovid_confirmed_usa  76%[==============>     ]  13.93M  6.91MB/s               "
     ]
    },
    {
     "name": "stdout",
     "output_type": "stream",
     "text": [
      "\rovid_confirmed_usaf  84%[===============>    ]  15.33M  6.91MB/s               "
     ]
    },
    {
     "name": "stdout",
     "output_type": "stream",
     "text": [
      "\rvid_confirmed_usafa  91%[=================>  ]  16.74M  6.92MB/s               "
     ]
    },
    {
     "name": "stdout",
     "output_type": "stream",
     "text": [
      "\rid_confirmed_usafac  99%[==================> ]  18.15M  6.92MB/s               \rcovid_confirmed_usa 100%[===================>]  18.22M  6.93MB/s    in 2.6s    \r\n",
      "\r\n",
      "2023-09-18 03:59:28 (6.93 MB/s) - ‘data/covid_confirmed_usafacts.csv.1’ saved [19106921/19106921]\r\n",
      "\r\n"
     ]
    },
    {
     "name": "stdout",
     "output_type": "stream",
     "text": [
      "--2023-09-18 03:59:28--  https://static.usafacts.org/public/data/covid-19/covid_deaths_usafacts.csv\r\n",
      "Resolving static.usafacts.org (static.usafacts.org)... 104.18.11.66, 104.18.10.66, 2606:4700::6812:a42, ...\r\n",
      "Connecting to static.usafacts.org (static.usafacts.org)|104.18.11.66|:443... "
     ]
    },
    {
     "name": "stdout",
     "output_type": "stream",
     "text": [
      "connected.\r\n",
      "HTTP request sent, awaiting response... "
     ]
    },
    {
     "name": "stdout",
     "output_type": "stream",
     "text": [
      "200 OK\r\n",
      "Length: 12636741 (12M) [application/octet-stream]\r\n",
      "Saving to: ‘data/covid_deaths_usafacts.csv’\r\n",
      "\r\n",
      "\r          covid_dea   0%[                    ]       0  --.-KB/s               "
     ]
    },
    {
     "name": "stdout",
     "output_type": "stream",
     "text": [
      "\r         covid_deat   1%[                    ] 160.86K   753KB/s               "
     ]
    },
    {
     "name": "stdout",
     "output_type": "stream",
     "text": [
      "\r        covid_death   4%[                    ] 612.73K  1.44MB/s               "
     ]
    },
    {
     "name": "stdout",
     "output_type": "stream",
     "text": [
      "\r       covid_deaths  14%[=>                  ]   1.75M  2.83MB/s               "
     ]
    },
    {
     "name": "stdout",
     "output_type": "stream",
     "text": [
      "\r      covid_deaths_  26%[====>               ]   3.14M  3.84MB/s               "
     ]
    },
    {
     "name": "stdout",
     "output_type": "stream",
     "text": [
      "\r     covid_deaths_u  37%[======>             ]   4.55M  4.46MB/s               "
     ]
    },
    {
     "name": "stdout",
     "output_type": "stream",
     "text": [
      "\r    covid_deaths_us  49%[========>           ]   5.96M  4.88MB/s               "
     ]
    },
    {
     "name": "stdout",
     "output_type": "stream",
     "text": [
      "\r   covid_deaths_usa  61%[===========>        ]   7.36M  5.17MB/s               "
     ]
    },
    {
     "name": "stdout",
     "output_type": "stream",
     "text": [
      "\r  covid_deaths_usaf  72%[=============>      ]   8.77M  5.40MB/s               "
     ]
    },
    {
     "name": "stdout",
     "output_type": "stream",
     "text": [
      "\r covid_deaths_usafa  84%[===============>    ]  10.18M  5.57MB/s               "
     ]
    },
    {
     "name": "stdout",
     "output_type": "stream",
     "text": [
      "\rcovid_deaths_usafac  96%[==================> ]  11.58M  5.71MB/s               "
     ]
    },
    {
     "name": "stdout",
     "output_type": "stream",
     "text": [
      "\rcovid_deaths_usafac 100%[===================>]  12.05M  5.75MB/s    in 2.1s    \r\n",
      "\r\n",
      "2023-09-18 03:59:31 (5.75 MB/s) - ‘data/covid_deaths_usafacts.csv’ saved [12636741/12636741]\r\n",
      "\r\n"
     ]
    },
    {
     "name": "stdout",
     "output_type": "stream",
     "text": [
      "--2023-09-18 03:59:32--  https://static.usafacts.org/public/data/covid-19/covid_county_population_usafacts.csv\r\n",
      "Resolving static.usafacts.org (static.usafacts.org)... 104.18.10.66, 104.18.11.66, 2606:4700::6812:b42, ...\r\n",
      "Connecting to static.usafacts.org (static.usafacts.org)|104.18.10.66|:443... connected.\r\n"
     ]
    },
    {
     "name": "stdout",
     "output_type": "stream",
     "text": [
      "HTTP request sent, awaiting response... "
     ]
    },
    {
     "name": "stdout",
     "output_type": "stream",
     "text": [
      "200 OK\r\n",
      "Length: 98761 (96K) [text/csv]\r\n",
      "Saving to: ‘data/covid_county_population_usafacts.csv’\r\n",
      "\r\n",
      "\r          covid_cou   0%[                    ]       0  --.-KB/s               "
     ]
    },
    {
     "name": "stdout",
     "output_type": "stream",
     "text": [
      "\rcovid_county_popula 100%[===================>]  96.45K  --.-KB/s    in 0.07s   \r\n",
      "\r\n",
      "2023-09-18 03:59:32 (1.30 MB/s) - ‘data/covid_county_population_usafacts.csv’ saved [98761/98761]\r\n",
      "\r\n"
     ]
    }
   ],
   "source": [
    "! wget -P data/ https://static.usafacts.org/public/data/covid-19/covid_confirmed_usafacts.csv\n",
    "! wget -P data/ https://static.usafacts.org/public/data/covid-19/covid_deaths_usafacts.csv\n",
    "! wget -P data/ https://static.usafacts.org/public/data/covid-19/covid_county_population_usafacts.csv"
   ]
  },
  {
   "cell_type": "code",
   "execution_count": 5,
   "metadata": {
    "collapsed": false
   },
   "outputs": [
   ],
   "source": [
    "import pandas as pd\n",
    "import numpy as np"
   ]
  },
  {
   "cell_type": "markdown",
   "metadata": {
    "collapsed": false
   },
   "source": [
    "Next we are going to import them using pandas\n"
   ]
  },
  {
   "cell_type": "code",
   "execution_count": 8,
   "metadata": {
    "collapsed": false
   },
   "outputs": [
   ],
   "source": [
    "covid_confimed = pd.read_csv(\"./data/covid_confirmed_usafacts.csv\")\n",
    "covid_deaths = pd.read_csv(\"./data/covid_deaths_usafacts.csv\")\n",
    "covid_county_population = pd.read_csv(\"./data/covid_county_population_usafacts.csv\")"
   ]
  },
  {
   "cell_type": "code",
   "execution_count": 0,
   "metadata": {
    "collapsed": false
   },
   "outputs": [
   ],
   "source": [
   ]
  },
  {
   "cell_type": "code",
   "execution_count": 0,
   "metadata": {
    "collapsed": false
   },
   "outputs": [
   ],
   "source": [
   ]
  }
 ],
 "metadata": {
  "kernelspec": {
   "display_name": "python3",
   "env": {
   },
   "language": "python",
   "name": "python3",
   "resource_dir": "/projects/af076c66-cfc6-44f8-8414-03013b9beb69/.local/share/jupyter/kernels/python3"
  },
  "language_info": {
   "codemirror_mode": {
    "name": "ipython",
    "version": 3
   },
   "file_extension": ".py",
   "mimetype": "text/x-python",
   "name": "python",
   "nbconvert_exporter": "python",
   "pygments_lexer": "ipython3",
   "version": "3.10.6"
  }
 },
 "nbformat": 4,
 "nbformat_minor": 4
}