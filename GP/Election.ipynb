{
 "cells": [
  {
   "cell_type": "code",
   "execution_count": 39,
   "id": "feb0e1c7",
   "metadata": {},
   "outputs": [],
   "source": [
    "# Import Pandas\n",
    "import pandas as pd\n",
    "\n",
    "# Read the CSV\n",
    "df = pd.read_csv('election_data/president_county_candidate.csv')"
   ]
  },
  {
   "cell_type": "code",
   "execution_count": 41,
   "id": "648a6255",
   "metadata": {},
   "outputs": [
    {
     "name": "stdout",
     "output_type": "stream",
     "text": [
      "Head:\n",
      "      state             county      candidate party  total_votes    won\n",
      "0  Delaware        Kent County      Joe Biden   DEM        44552   True\n",
      "1  Delaware        Kent County   Donald Trump   REP        41009  False\n",
      "2  Delaware        Kent County   Jo Jorgensen   LIB         1044  False\n",
      "3  Delaware        Kent County  Howie Hawkins   GRN          420  False\n",
      "4  Delaware  New Castle County      Joe Biden   DEM       195034   True\n",
      "\n",
      "Datatypes:\n",
      "state          object\n",
      "county         object\n",
      "candidate      object\n",
      "party          object\n",
      "total_votes     int64\n",
      "won              bool\n",
      "dtype: object\n"
     ]
    }
   ],
   "source": [
    "# Print the dataset\n",
    "print(\"Head:\")\n",
    "print(df.head())\n",
    "\n",
    "print()\n",
    "\n",
    "# Print the dataset column types\n",
    "print(\"Datatypes:\")\n",
    "print(df.dtypes)"
   ]
  },
  {
   "cell_type": "code",
   "execution_count": null,
   "id": "07dba915",
   "metadata": {},
   "outputs": [],
   "source": []
  },
  {
   "cell_type": "code",
   "execution_count": null,
   "id": "11de06a0",
   "metadata": {},
   "outputs": [],
   "source": []
  }
 ],
 "metadata": {
  "kernelspec": {
   "display_name": "Python 3 (ipykernel)",
   "language": "python",
   "name": "python3"
  },
  "language_info": {
   "codemirror_mode": {
    "name": "ipython",
    "version": 3
   },
   "file_extension": ".py",
   "mimetype": "text/x-python",
   "name": "python",
   "nbconvert_exporter": "python",
   "pygments_lexer": "ipython3",
   "version": "3.11.4"
  }
 },
 "nbformat": 4,
 "nbformat_minor": 5
}
