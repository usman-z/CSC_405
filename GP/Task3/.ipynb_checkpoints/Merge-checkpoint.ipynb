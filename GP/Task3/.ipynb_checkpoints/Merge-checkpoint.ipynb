{
 "cells": [
  {
   "cell_type": "code",
   "execution_count": 2,
   "id": "30037671",
   "metadata": {},
   "outputs": [],
   "source": [
    "# Import Pandas\n",
    "import pandas as pd\n",
    "\n",
    "# Load Election dataset\n",
    "electionDF = pd.read_csv('../election_data/president_county_candidate.csv')\n",
    "\n",
    "# Load COVID-19 dataset\n",
    "covidDF = pd.read_csv('../../Team/covid_deaths_usafacts/president_county_candidate.csv')"
   ]
  },
  {
   "cell_type": "code",
   "execution_count": 4,
   "id": "6692d74c",
   "metadata": {},
   "outputs": [
    {
     "name": "stdout",
     "output_type": "stream",
     "text": [
      "Election Head:\n",
      "      state             county      candidate party  total_votes    won\n",
      "0  Delaware        Kent County      Joe Biden   DEM        44552   True\n",
      "1  Delaware        Kent County   Donald Trump   REP        41009  False\n",
      "2  Delaware        Kent County   Jo Jorgensen   LIB         1044  False\n",
      "3  Delaware        Kent County  Howie Hawkins   GRN          420  False\n",
      "4  Delaware  New Castle County      Joe Biden   DEM       195034   True\n",
      "\n",
      "Election Datatypes:\n",
      "state          object\n",
      "county         object\n",
      "candidate      object\n",
      "party          object\n",
      "total_votes     int64\n",
      "won              bool\n",
      "dtype: object\n"
     ]
    }
   ],
   "source": [
    "# Print election dataset head\n",
    "print(\"Election Data Head:\")\n",
    "print(electionDF.head())\n",
    "\n",
    "print()\n",
    "\n",
    "# Print the election dataset column types\n",
    "print(\"Election Datatypes:\")\n",
    "print(electionDF.dtypes)"
   ]
  },
  {
   "cell_type": "code",
   "execution_count": 5,
   "id": "4f2be429",
   "metadata": {},
   "outputs": [
    {
     "name": "stdout",
     "output_type": "stream",
     "text": [
      "COVID-19 Data Head:\n",
      "      state             county      candidate party  total_votes    won\n",
      "0  Delaware        Kent County      Joe Biden   DEM        44552   True\n",
      "1  Delaware        Kent County   Donald Trump   REP        41009  False\n",
      "2  Delaware        Kent County   Jo Jorgensen   LIB         1044  False\n",
      "3  Delaware        Kent County  Howie Hawkins   GRN          420  False\n",
      "4  Delaware  New Castle County      Joe Biden   DEM       195034   True\n",
      "\n",
      "COVID-19 Datatypes:\n",
      "state          object\n",
      "county         object\n",
      "candidate      object\n",
      "party          object\n",
      "total_votes     int64\n",
      "won              bool\n",
      "dtype: object\n"
     ]
    }
   ],
   "source": [
    "# Print election dataset head\n",
    "print(\"COVID-19 Data Head:\")\n",
    "print(covidDF.head())\n",
    "\n",
    "print()\n",
    "\n",
    "# Print the election dataset column types\n",
    "print(\"COVID-19 Datatypes:\")\n",
    "print(covidDF.dtypes)"
   ]
  },
  {
   "cell_type": "code",
   "execution_count": null,
   "id": "d8c32d4e",
   "metadata": {},
   "outputs": [],
   "source": []
  }
 ],
 "metadata": {
  "kernelspec": {
   "display_name": "Python 3 (ipykernel)",
   "language": "python",
   "name": "python3"
  },
  "language_info": {
   "codemirror_mode": {
    "name": "ipython",
    "version": 3
   },
   "file_extension": ".py",
   "mimetype": "text/x-python",
   "name": "python",
   "nbconvert_exporter": "python",
   "pygments_lexer": "ipython3",
   "version": "3.11.4"
  }
 },
 "nbformat": 4,
 "nbformat_minor": 5
}
