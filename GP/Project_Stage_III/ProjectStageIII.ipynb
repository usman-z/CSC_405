{
 "cells": [
  {
   "cell_type": "markdown",
   "id": "c4b0e1cb",
   "metadata": {},
   "source": [
    "### Use the state data (the state of your choice) generated in Stage II to fit a distribution to the number of COVID-19 cases. (25 points)"
   ]
  },
  {
   "cell_type": "markdown",
   "id": "3d283d5c",
   "metadata": {},
   "source": [
    "#### Graphically plot the distribution and describe the distribution statistics. If using discrete values, calculate the Probability Mass Function for the individual values or range (if using histogram) and plot that."
   ]
  },
  {
   "cell_type": "code",
   "execution_count": null,
   "id": "ed43ce65",
   "metadata": {},
   "outputs": [],
   "source": [
    "# Imports\n",
    "import pandas as pd\n",
    "import numpy as np\n",
    "import plotly.graph_objects as go\n",
    "import matplotlib.pyplot as plt\n",
    "import scipy.stats as stats\n",
    "\n",
    "from IPython.display import Image"
   ]
  },
  {
   "cell_type": "code",
   "execution_count": null,
   "id": "4f17751d",
   "metadata": {},
   "outputs": [],
   "source": [
    "# Load cases, deaths, and county population data\n",
    "dataFileCases = '../../Team/covid_confirmed_usafacts.csv'\n",
    "dataFileDeaths = '../../Team/covid_deaths_usafacts.csv'\n",
    "dataFilePopulation = '../../Team/covid_county_population_usafacts.csv'\n",
    "\n",
    "dfCases = pd.read_csv(dataFileCases)\n",
    "dfDeaths = pd.read_csv(dataFileDeaths)\n",
    "dfPopulation = pd.read_csv(dataFilePopulation)"
   ]
  },
  {
   "cell_type": "code",
   "execution_count": null,
   "id": "a5fb837c",
   "metadata": {},
   "outputs": [],
   "source": [
    "# Get only the entries relating to the state of Georgia\n",
    "dfCasesGA = dfCases.loc[dfCases['State'] == 'GA']"
   ]
  },
  {
   "cell_type": "code",
   "execution_count": null,
   "id": "cc247235",
   "metadata": {},
   "outputs": [],
   "source": [
    "# Select case data on a weekly basis (Wednesday from each week)\n",
    "# July 1, 2020 is a Wednesday\n",
    "count = 2\n",
    "weeklyCasesGA = [] # where Wednesday from each week is chosen\n",
    "for col in dfCasesGA.columns:\n",
    "    count = count + 1\n",
    "    if count % 7 == 0:\n",
    "        thisSum = dfCasesGA[col].sum()\n",
    "        thisSum = thisSum / (10800000 * 100000)\n",
    "        weeklyCasesGA.append(thisSum)\n",
    "dfWeeklyCasesGA = pd.Series(weeklyCasesGA)\n",
    "dfWeeklyCasesGA.head()"
   ]
  },
  {
   "cell_type": "code",
   "execution_count": null,
   "id": "2bdb0971",
   "metadata": {},
   "outputs": [],
   "source": [
    "# Graph case data\n",
    "fig = go.Figure()\n",
    "\n",
    "fig.add_trace(go.Scatter(x=dfWeeklyCasesGA.index, y=dfWeeklyCasesGA,\n",
    "                         mode='lines', name='Cases'))\n",
    "fig.update_layout(\n",
    "    title='Weekly Georgia COVID-19 Cases',\n",
    "    xaxis=dict(title='Weeks From July 2020'),\n",
    "    yaxis=dict(title='Number of Cases'),\n",
    "    showlegend=True,\n",
    "    width=800,\n",
    "    height=500\n",
    ")\n",
    "\n",
    "fig.write_image(\"ga_cases.png\")\n",
    "Image(filename=\"ga_cases.png\")"
   ]
  },
  {
   "cell_type": "markdown",
   "id": "18d5c9f4",
   "metadata": {},
   "source": [
    "#### Describe the type of distribution (modality) and its statistics (moments of a distribution - center, variance, skewness, kurtosis) in the report and the notebook."
   ]
  },
  {
   "cell_type": "code",
   "execution_count": null,
   "id": "c3b70441",
   "metadata": {},
   "outputs": [],
   "source": [
    "# Calculate center, variance, skewness and kurtosis\n",
    "print(\"Center:\", dfWeeklyCasesGA.mean())\n",
    "print(\"Variance:\", dfWeeklyCasesGA.var())\n",
    "print(\"Skewness:\", dfWeeklyCasesGA.skew())\n",
    "print(\"Kurtosis:\", dfWeeklyCasesGA.kurt())"
   ]
  },
  {
   "cell_type": "markdown",
   "id": "0deceea4",
   "metadata": {},
   "source": [
    "#### Compare the distribution and its statistics to 5 other states of your choosing. Describe if the distributions look different and what does that imply."
   ]
  },
  {
   "cell_type": "code",
   "execution_count": null,
   "id": "9f9b4367",
   "metadata": {},
   "outputs": [],
   "source": [
    "# [1] Case data for Florida (FL)\n",
    "dfCasesFL = dfCases.loc[dfCases['State'] == 'FL']\n",
    "\n",
    "# [2] Case data for Michigan (MI)\n",
    "dfCasesMI = dfCases.loc[dfCases['State'] == 'MI']\n",
    "\n",
    "# [3] Case data for North Carolina (NC)\n",
    "dfCasesNC = dfCases.loc[dfCases['State'] == 'NC']\n",
    "\n",
    "# [4] Case data for New Jersey (NJ)\n",
    "dfCasesNJ = dfCases.loc[dfCases['State'] == 'NJ']\n",
    "\n",
    "# [5] Case data for Texas (TX)\n",
    "dfCasesTX = dfCases.loc[dfCases['State'] == 'TX']"
   ]
  },
  {
   "cell_type": "code",
   "execution_count": null,
   "id": "1edfb937",
   "metadata": {},
   "outputs": [],
   "source": [
    "# Gather weekly Florida cases\n",
    "count = 2\n",
    "weeklyCasesFL = []\n",
    "for col in dfCasesFL.columns:\n",
    "    count = count + 1\n",
    "    if count % 7 == 0:\n",
    "        weeklyCasesFL.append(dfCasesFL[col].sum())\n",
    "dfWeeklyCasesFL = pd.Series(weeklyCasesFL)\n",
    "dfWeeklyCasesFL.head()"
   ]
  },
  {
   "cell_type": "code",
   "execution_count": null,
   "id": "67b0008a",
   "metadata": {},
   "outputs": [],
   "source": [
    "# Gather weekly Michigan cases\n",
    "count = 2\n",
    "weeklyCasesMI = []\n",
    "for col in dfCasesMI.columns:\n",
    "    count = count + 1\n",
    "    if count % 7 == 0:\n",
    "        weeklyCasesMI.append(dfCasesMI[col].sum())\n",
    "dfWeeklyCasesMI = pd.Series(weeklyCasesMI)\n",
    "dfWeeklyCasesMI.head()"
   ]
  },
  {
   "cell_type": "code",
   "execution_count": null,
   "id": "41c6290b",
   "metadata": {},
   "outputs": [],
   "source": [
    "# Gather weekly North Carolina cases\n",
    "count = 2\n",
    "weeklyCasesNC = []\n",
    "for col in dfCasesNC.columns:\n",
    "    count = count + 1\n",
    "    if count % 7 == 0:\n",
    "        weeklyCasesNC.append(dfCasesNC[col].sum())\n",
    "dfWeeklyCasesNC = pd.Series(weeklyCasesGA)\n",
    "dfWeeklyCasesNC.head()"
   ]
  },
  {
   "cell_type": "code",
   "execution_count": null,
   "id": "fa79705b",
   "metadata": {},
   "outputs": [],
   "source": [
    "# Gather weekly New Jersey cases\n",
    "count = 2\n",
    "weeklyCasesNJ = []\n",
    "for col in dfCasesNJ.columns:\n",
    "    count = count + 1\n",
    "    if count % 7 == 0:\n",
    "        weeklyCasesNJ.append(dfCasesNJ[col].sum())\n",
    "dfWeeklyCasesNJ = pd.Series(weeklyCasesNJ)\n",
    "dfWeeklyCasesNJ.head()"
   ]
  },
  {
   "cell_type": "code",
   "execution_count": null,
   "id": "20134ad2",
   "metadata": {},
   "outputs": [],
   "source": [
    "# Gather weekly Texas cases\n",
    "count = 2\n",
    "weeklyCasesTX = []\n",
    "for col in dfCasesTX.columns:\n",
    "    count = count + 1\n",
    "    if count % 7 == 0:\n",
    "        weeklyCasesTX.append(dfCasesTX[col].sum())\n",
    "dfWeeklyCasesTX = pd.Series(weeklyCasesTX)\n",
    "dfWeeklyCasesTX.head()"
   ]
  },
  {
   "cell_type": "code",
   "execution_count": null,
   "id": "a3cbc1b9",
   "metadata": {},
   "outputs": [],
   "source": [
    "# Graph all state case data\n",
    "fig = go.Figure()\n",
    "\n",
    "fig.add_trace(go.Scatter(x=dfWeeklyCasesGA.index, y=dfWeeklyCasesGA,\n",
    "                         mode='lines', name='Georgia'))\n",
    "fig.add_trace(go.Scatter(x=dfWeeklyCasesFL.index, y=dfWeeklyCasesFL,\n",
    "                         mode='lines', name='Florida'))\n",
    "fig.add_trace(go.Scatter(x=dfWeeklyCasesMI.index, y=dfWeeklyCasesMI,\n",
    "                         mode='lines', name='Michigan'))\n",
    "fig.add_trace(go.Scatter(x=dfWeeklyCasesNC.index, y=dfWeeklyCasesNC,\n",
    "                         mode='lines', name='North Carolina'))\n",
    "fig.add_trace(go.Scatter(x=dfWeeklyCasesNJ.index, y=dfWeeklyCasesNJ,\n",
    "                         mode='lines', name='New Jersey'))\n",
    "fig.add_trace(go.Scatter(x=dfWeeklyCasesTX.index, y=dfWeeklyCasesTX,\n",
    "                         mode='lines', name='Texas'))\n",
    "fig.update_layout(\n",
    "    title='Weekly COVID-19 Cases',\n",
    "    xaxis=dict(title='Weeks From July 2020'),\n",
    "    yaxis=dict(title='Number of Cases'),\n",
    "    showlegend=True,\n",
    "    width=800,\n",
    "    height=500\n",
    ")\n",
    "\n",
    "fig.write_image(\"all_cases.png\")\n",
    "Image(filename=\"all_cases.png\")"
   ]
  },
  {
   "cell_type": "code",
   "execution_count": null,
   "id": "48b342bd",
   "metadata": {},
   "outputs": [],
   "source": [
    "# Calculate center, variance, skewness and kurtosis for other states\n",
    "dfs = {\"Florida\": dfWeeklyCasesFL, \"Michigan\": dfWeeklyCasesMI, \"North Carolina\": dfWeeklyCasesNC, \"New Jersey\": dfWeeklyCasesNJ, \"Texas\": dfWeeklyCasesTX }\n",
    "\n",
    "for key, value in dfs.items():\n",
    "    print(\"~~~~~~~~ \" + key + \" ~~~~~~~~\")\n",
    "    print(\"Center:\", value.mean())\n",
    "    print(\"Variance:\", value.var())\n",
    "    print(\"Skewness:\", value.skew())\n",
    "    print(\"Kurtosis:\", value.kurt())\n",
    "    print()"
   ]
  },
  {
   "cell_type": "markdown",
   "id": "a06f85fa",
   "metadata": {},
   "source": [
    "<span style=\"color:red\">**The distribution of Georgia and Florida is different compared to Georgia.**</span>"
   ]
  },
  {
   "cell_type": "markdown",
   "id": "b3bfd945",
   "metadata": {},
   "source": [
    "### Model a poission distribution of COVID-19 cases and deaths of a state and compare to other 5 states. Describe how the poission modeling is different from the first modeling you did. (25 points)"
   ]
  },
  {
   "cell_type": "code",
   "execution_count": null,
   "id": "b66fe3cc",
   "metadata": {},
   "outputs": [],
   "source": [
    "# [1] Death data for Georgia (GA)\n",
    "dfDeathsGA = dfDeaths.loc[dfDeaths['State'] == 'FL']\n",
    "\n",
    "# [2] Death data for Florida (FL)\n",
    "dfDeathsFL = dfDeaths.loc[dfDeaths['State'] == 'FL']\n",
    "\n",
    "# [3] Death data for Michigan (MI)\n",
    "dfDeathsMI = dfDeaths.loc[dfDeaths['State'] == 'MI']\n",
    "\n",
    "# [4] Death data for North Carolina (NC)\n",
    "dfDeathsNC = dfDeaths.loc[dfDeaths['State'] == 'NC']\n",
    "\n",
    "# [5] Death data for New Jersey (NJ)\n",
    "dfDeathsNJ = dfDeaths.loc[dfDeaths['State'] == 'NJ']\n",
    "\n",
    "# [6] Death data for Texas (TX)\n",
    "dfDeathsTX = dfDeaths.loc[dfDeaths['State'] == 'TX']"
   ]
  },
  {
   "cell_type": "code",
   "execution_count": null,
   "id": "fdf036f4",
   "metadata": {},
   "outputs": [],
   "source": [
    "# Gather weekly Georgia Deaths\n",
    "count = 2\n",
    "weeklyDeathsGA = []\n",
    "for col in dfDeathsGA.columns:\n",
    "    count = count + 1\n",
    "    if count % 7 == 0:\n",
    "        weeklyDeathsGA.append(dfDeathsGA[col].sum())\n",
    "dfWeeklyDeathsGA = pd.Series(weeklyDeathsGA)\n",
    "dfWeeklyDeathsGA.head()"
   ]
  },
  {
   "cell_type": "code",
   "execution_count": null,
   "id": "3f0b8ca2",
   "metadata": {},
   "outputs": [],
   "source": [
    "# Gather weekly Florida Deaths\n",
    "count = 2\n",
    "weeklyDeathsFL = []\n",
    "for col in dfDeathsFL.columns:\n",
    "    count = count + 1\n",
    "    if count % 7 == 0:\n",
    "        weeklyDeathsFL.append(dfDeathsFL[col].sum())\n",
    "dfWeeklyDeathsFL = pd.Series(weeklyDeathsFL)\n",
    "dfWeeklyDeathsFL.head()"
   ]
  },
  {
   "cell_type": "code",
   "execution_count": null,
   "id": "686ee822",
   "metadata": {},
   "outputs": [],
   "source": [
    "# Gather weekly Michigan Deaths\n",
    "count = 2\n",
    "weeklyDeathsMI = []\n",
    "for col in dfDeathsMI.columns:\n",
    "    count = count + 1\n",
    "    if count % 7 == 0:\n",
    "        weeklyDeathsMI.append(dfDeathsMI[col].sum())\n",
    "dfWeeklyDeathsMI = pd.Series(weeklyDeathsMI)\n",
    "dfWeeklyDeathsMI.head()"
   ]
  },
  {
   "cell_type": "code",
   "execution_count": null,
   "id": "71ff2188",
   "metadata": {},
   "outputs": [],
   "source": [
    "# Gather weekly North Carolina Deaths\n",
    "count = 2\n",
    "weeklyDeathsNC = []\n",
    "for col in dfDeathsNC.columns:\n",
    "    count = count + 1\n",
    "    if count % 7 == 0:\n",
    "        weeklyDeathsNC.append(dfDeathsNC[col].sum())\n",
    "dfWeeklyDeathsNC = pd.Series(weeklyDeathsNC)\n",
    "dfWeeklyDeathsNC.head()"
   ]
  },
  {
   "cell_type": "code",
   "execution_count": null,
   "id": "a8a76595",
   "metadata": {},
   "outputs": [],
   "source": [
    "# Gather weekly New Jersey Deaths\n",
    "count = 2\n",
    "weeklyDeathsNJ = []\n",
    "for col in dfDeathsNJ.columns:\n",
    "    count = count + 1\n",
    "    if count % 7 == 0:\n",
    "        weeklyDeathsNJ.append(dfDeathsNJ[col].sum())\n",
    "dfWeeklyDeathsNJ = pd.Series(weeklyDeathsNJ)\n",
    "dfWeeklyDeathsNJ.head()"
   ]
  },
  {
   "cell_type": "code",
   "execution_count": null,
   "id": "4d9c44d8",
   "metadata": {},
   "outputs": [],
   "source": [
    "# Gather weekly Texas Deaths\n",
    "count = 2\n",
    "weeklyDeathsTX = []\n",
    "for col in dfDeathsTX.columns:\n",
    "    count = count + 1\n",
    "    if count % 7 == 0:\n",
    "        weeklyDeathsTX.append(dfDeathsTX[col].sum())\n",
    "dfWeeklyDeathsTX = pd.Series(weeklyDeathsTX)\n",
    "dfWeeklyDeathsTX.head()"
   ]
  },
  {
   "cell_type": "code",
   "execution_count": null,
   "id": "41f76930",
   "metadata": {},
   "outputs": [],
   "source": [
    "# Graph Poisson distribution of COVID-19 Cases\n",
    "sampleSizeGA = np.sum(weeklyCasesGA)\n",
    "meanSizeGA = np.mean(weeklyCasesGA)\n",
    "poissonCasesGA = stats.poisson.rvs(size=sampleSizeGA, mu=meanSizeGA)\n",
    "pd.DataFrame(poissonCasesGA).hist(range=(-0.5,max(poissonCasesGA)+0.5), bins=max(poissonCasesGA)+1, ec='black')"
   ]
  },
  {
   "cell_type": "code",
   "execution_count": null,
   "id": "3c1946ef",
   "metadata": {},
   "outputs": [],
   "source": [
    "# Graph Poisson distribution of COVID-19 Deaths\n",
    "sampleSizeDeathsGA = np.sum(weeklyDeathsGA)\n",
    "meanSizeDeathsGA = np.mean(weeklyDeathsGA)\n",
    "poissonDeathsGA = stats.poisson.rvs(size=sampleSizeDeathsGA, mu=meanSizeDeathsGA)\n",
    "pd.DataFrame(poissonDeathsGA).hist(range=(-1,max(poissonDeathsGA)+1), bins=max(poissonDeathsGA)+1, ec='black')"
   ]
  },
  {
   "cell_type": "markdown",
   "id": "7f7133b3",
   "metadata": {},
   "source": [
    "### Perform corelation between Enrichment data valiables and COVID-19 cases to observe any patterns. (20 points)"
   ]
  },
  {
   "cell_type": "code",
   "execution_count": null,
   "id": "da85f38f",
   "metadata": {},
   "outputs": [],
   "source": [
    "# Load election data\n",
    "dfGovernor = pd.read_csv(\"../election_data/governors_county_candidate.csv\")\n",
    "dfPresident = pd.read_csv(\"../election_data/president_county_candidate.csv\")\n",
    "dfSenator = pd.read_csv(\"../election_data/senate_county_candidate.csv\") "
   ]
  },
  {
   "cell_type": "code",
   "execution_count": null,
   "id": "6518ccb8",
   "metadata": {},
   "outputs": [],
   "source": []
  },
  {
   "cell_type": "markdown",
   "id": "9b67ee18",
   "metadata": {},
   "source": [
    "### Formulate hypothesis between Enrichment data and number of cases to be compared against states. Choose 3 different variables to compare against. (30 points)"
   ]
  },
  {
   "cell_type": "markdown",
   "id": "50a94c7c",
   "metadata": {},
   "source": [
    "I propose the following hypothesis below based on the variables that I chose for the previous section. Looking at the data, it is unlikely that any of the variables I analyzed in the previous section are correlated with COVID-19. Still, it is perhaps worth confirming this through hypothesis testing.\n",
    "\n",
    "* Does an increase in COVID-19 cases affect whether a canditate from the DEM or REP party wins?\n",
    "* Does an increase in COVID-19 cases affect voter participation?\n",
    "* Does an increase in COVID-19 cases affect the percentage of U.S. House and U.S. Senate seat flips?"
   ]
  },
  {
   "cell_type": "code",
   "execution_count": null,
   "id": "4d29ef7a",
   "metadata": {},
   "outputs": [],
   "source": []
  }
 ],
 "metadata": {
  "kernelspec": {
   "display_name": "Python 3 (ipykernel)",
   "language": "python",
   "name": "python3"
  },
  "language_info": {
   "codemirror_mode": {
    "name": "ipython",
    "version": 3
   },
   "file_extension": ".py",
   "mimetype": "text/x-python",
   "name": "python",
   "nbconvert_exporter": "python",
   "pygments_lexer": "ipython3",
   "version": "3.11.4"
  }
 },
 "nbformat": 4,
 "nbformat_minor": 5
}
