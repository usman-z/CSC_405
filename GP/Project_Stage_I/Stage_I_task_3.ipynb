{
 "cells": [
  {
   "cell_type": "code",
   "execution_count": 1,
   "id": "9c7e0d11",
   "metadata": {},
   "outputs": [],
   "source": [
    "# Import Pandas\n",
    "import pandas as pd\n",
    "\n",
    "# Load Election dataset\n",
    "electionDF = pd.read_csv('../election_data/president_county_candidate.csv')\n",
    "\n",
    "# Load COVID-19 datasets\n",
    "covidDF = pd.read_csv('../../Team/covid_confirmed_usafacts.csv')"
   ]
  },
  {
   "cell_type": "markdown",
   "id": "2be8e101",
   "metadata": {},
   "source": [
    "## Show head and datatypes of each dataset (president_county_candidate and covid_confirmed_usafacts)"
   ]
  },
  {
   "cell_type": "code",
   "execution_count": 2,
   "id": "9fdaf798",
   "metadata": {},
   "outputs": [
    {
     "name": "stdout",
     "output_type": "stream",
     "text": [
      "Election Data Head:\n",
      "      state             county      candidate party  total_votes    won\n",
      "0  Delaware        Kent County      Joe Biden   DEM        44552   True\n",
      "1  Delaware        Kent County   Donald Trump   REP        41009  False\n",
      "2  Delaware        Kent County   Jo Jorgensen   LIB         1044  False\n",
      "3  Delaware        Kent County  Howie Hawkins   GRN          420  False\n",
      "4  Delaware  New Castle County      Joe Biden   DEM       195034   True\n",
      "\n",
      "Election Datatypes:\n",
      "state          object\n",
      "county         object\n",
      "candidate      object\n",
      "party          object\n",
      "total_votes     int64\n",
      "won              bool\n",
      "dtype: object\n"
     ]
    }
   ],
   "source": [
    "# Print election dataset head\n",
    "print(\"Election Data Head:\")\n",
    "print(electionDF.head())\n",
    "\n",
    "print()\n",
    "\n",
    "# Print the election dataset column types\n",
    "print(\"Election Datatypes:\")\n",
    "print(electionDF.dtypes)"
   ]
  },
  {
   "cell_type": "code",
   "execution_count": 3,
   "id": "6ba4c9fb",
   "metadata": {},
   "outputs": [
    {
     "name": "stdout",
     "output_type": "stream",
     "text": [
      "COVID-19 Data Head:\n",
      "   countyFIPS            County Name State  StateFIPS  2020-01-22  2020-01-23  \\\n",
      "0           0  Statewide Unallocated    AL          1           0           0   \n",
      "1        1001        Autauga County     AL          1           0           0   \n",
      "2        1003        Baldwin County     AL          1           0           0   \n",
      "3        1005        Barbour County     AL          1           0           0   \n",
      "4        1007           Bibb County     AL          1           0           0   \n",
      "\n",
      "   2020-01-24  2020-01-25  2020-01-26  2020-01-27  ...  2023-07-14  \\\n",
      "0           0           0           0           0  ...           0   \n",
      "1           0           0           0           0  ...       19913   \n",
      "2           0           0           0           0  ...       70521   \n",
      "3           0           0           0           0  ...        7582   \n",
      "4           0           0           0           0  ...        8149   \n",
      "\n",
      "   2023-07-15  2023-07-16  2023-07-17  2023-07-18  2023-07-19  2023-07-20  \\\n",
      "0           0           0           0           0           0           0   \n",
      "1       19913       19913       19913       19913       19913       19913   \n",
      "2       70521       70521       70521       70521       70521       70521   \n",
      "3        7582        7582        7582        7582        7582        7582   \n",
      "4        8149        8149        8149        8149        8149        8149   \n",
      "\n",
      "   2023-07-21  2023-07-22  2023-07-23  \n",
      "0           0           0           0  \n",
      "1       19913       19913       19913  \n",
      "2       70521       70521       70521  \n",
      "3        7582        7582        7582  \n",
      "4        8149        8149        8149  \n",
      "\n",
      "[5 rows x 1269 columns]\n",
      "\n",
      "COVID-19 Datatypes:\n",
      "countyFIPS      int64\n",
      "County Name    object\n",
      "State          object\n",
      "StateFIPS       int64\n",
      "2020-01-22      int64\n",
      "                ...  \n",
      "2023-07-19      int64\n",
      "2023-07-20      int64\n",
      "2023-07-21      int64\n",
      "2023-07-22      int64\n",
      "2023-07-23      int64\n",
      "Length: 1269, dtype: object\n"
     ]
    }
   ],
   "source": [
    "# Print COVID-19 dataset head\n",
    "print(\"COVID-19 Data Head:\")\n",
    "print(covidDF.head())\n",
    "\n",
    "print()\n",
    "\n",
    "# Print COVID-19 dataset column types\n",
    "print(\"COVID-19 Datatypes:\")\n",
    "print(covidDF.dtypes)"
   ]
  },
  {
   "cell_type": "markdown",
   "id": "8b1ba75f",
   "metadata": {},
   "source": [
    "## Calculate COVID-19 data trends for the last week of the data\n",
    "**State Chosen: Florida (FL)**"
   ]
  },
  {
   "cell_type": "code",
   "execution_count": 4,
   "id": "9aa1f6b1",
   "metadata": {},
   "outputs": [
    {
     "name": "stdout",
     "output_type": "stream",
     "text": [
      "2023-07-17    7627999\n",
      "2023-07-18    7627999\n",
      "2023-07-19    7627999\n",
      "2023-07-20    7627999\n",
      "2023-07-21    7627999\n",
      "2023-07-22    7627999\n",
      "2023-07-23    7627999\n",
      "dtype: int64\n"
     ]
    }
   ],
   "source": [
    "# Show the case data for the last week for the state of Florida\n",
    "florida_data = covidDF.loc[covidDF['State'] == 'FL']\n",
    "florida_data.head()\n",
    "\n",
    "# Get the last 7 days of the florida data\n",
    "week_data = florida_data.iloc[:, -7:]\n",
    "#print(week_data)\n",
    "\n",
    "# Get the sum of each day\n",
    "week_sum = week_data.sum()\n",
    "print(week_sum)"
   ]
  },
  {
   "cell_type": "code",
   "execution_count": 16,
   "id": "b50251aa",
   "metadata": {},
   "outputs": [
    {
     "ename": "KeyError",
     "evalue": "'county'",
     "output_type": "error",
     "traceback": [
      "\u001b[1;31m---------------------------------------------------------------------------\u001b[0m",
      "\u001b[1;31mKeyError\u001b[0m                                  Traceback (most recent call last)",
      "Cell \u001b[1;32mIn[16], line 4\u001b[0m\n\u001b[0;32m      1\u001b[0m \u001b[38;5;66;03m# Join on county name\u001b[39;00m\n\u001b[0;32m      2\u001b[0m electionDF \u001b[38;5;241m=\u001b[39m electionDF\u001b[38;5;241m.\u001b[39mrename(columns\u001b[38;5;241m=\u001b[39m{\u001b[38;5;124m'\u001b[39m\u001b[38;5;124mcounty\u001b[39m\u001b[38;5;124m'\u001b[39m: \u001b[38;5;124m'\u001b[39m\u001b[38;5;124mCounty Name\u001b[39m\u001b[38;5;124m'\u001b[39m})\n\u001b[1;32m----> 4\u001b[0m finalDF \u001b[38;5;241m=\u001b[39m pd\u001b[38;5;241m.\u001b[39mmerge(covidDF, electionDF, on\u001b[38;5;241m=\u001b[39m\u001b[38;5;124m'\u001b[39m\u001b[38;5;124mcounty\u001b[39m\u001b[38;5;124m'\u001b[39m)\n\u001b[0;32m      5\u001b[0m \u001b[38;5;66;03m#print(finalDF)\u001b[39;00m\n\u001b[0;32m      6\u001b[0m \u001b[38;5;28mprint\u001b[39m(covidDF)\n",
      "File \u001b[1;32m~\\anaconda3\\Lib\\site-packages\\pandas\\core\\reshape\\merge.py:110\u001b[0m, in \u001b[0;36mmerge\u001b[1;34m(left, right, how, on, left_on, right_on, left_index, right_index, sort, suffixes, copy, indicator, validate)\u001b[0m\n\u001b[0;32m     93\u001b[0m \u001b[38;5;129m@Substitution\u001b[39m(\u001b[38;5;124m\"\u001b[39m\u001b[38;5;130;01m\\n\u001b[39;00m\u001b[38;5;124mleft : DataFrame or named Series\u001b[39m\u001b[38;5;124m\"\u001b[39m)\n\u001b[0;32m     94\u001b[0m \u001b[38;5;129m@Appender\u001b[39m(_merge_doc, indents\u001b[38;5;241m=\u001b[39m\u001b[38;5;241m0\u001b[39m)\n\u001b[0;32m     95\u001b[0m \u001b[38;5;28;01mdef\u001b[39;00m \u001b[38;5;21mmerge\u001b[39m(\n\u001b[1;32m   (...)\u001b[0m\n\u001b[0;32m    108\u001b[0m     validate: \u001b[38;5;28mstr\u001b[39m \u001b[38;5;241m|\u001b[39m \u001b[38;5;28;01mNone\u001b[39;00m \u001b[38;5;241m=\u001b[39m \u001b[38;5;28;01mNone\u001b[39;00m,\n\u001b[0;32m    109\u001b[0m ) \u001b[38;5;241m-\u001b[39m\u001b[38;5;241m>\u001b[39m DataFrame:\n\u001b[1;32m--> 110\u001b[0m     op \u001b[38;5;241m=\u001b[39m _MergeOperation(\n\u001b[0;32m    111\u001b[0m         left,\n\u001b[0;32m    112\u001b[0m         right,\n\u001b[0;32m    113\u001b[0m         how\u001b[38;5;241m=\u001b[39mhow,\n\u001b[0;32m    114\u001b[0m         on\u001b[38;5;241m=\u001b[39mon,\n\u001b[0;32m    115\u001b[0m         left_on\u001b[38;5;241m=\u001b[39mleft_on,\n\u001b[0;32m    116\u001b[0m         right_on\u001b[38;5;241m=\u001b[39mright_on,\n\u001b[0;32m    117\u001b[0m         left_index\u001b[38;5;241m=\u001b[39mleft_index,\n\u001b[0;32m    118\u001b[0m         right_index\u001b[38;5;241m=\u001b[39mright_index,\n\u001b[0;32m    119\u001b[0m         sort\u001b[38;5;241m=\u001b[39msort,\n\u001b[0;32m    120\u001b[0m         suffixes\u001b[38;5;241m=\u001b[39msuffixes,\n\u001b[0;32m    121\u001b[0m         indicator\u001b[38;5;241m=\u001b[39mindicator,\n\u001b[0;32m    122\u001b[0m         validate\u001b[38;5;241m=\u001b[39mvalidate,\n\u001b[0;32m    123\u001b[0m     )\n\u001b[0;32m    124\u001b[0m     \u001b[38;5;28;01mreturn\u001b[39;00m op\u001b[38;5;241m.\u001b[39mget_result(copy\u001b[38;5;241m=\u001b[39mcopy)\n",
      "File \u001b[1;32m~\\anaconda3\\Lib\\site-packages\\pandas\\core\\reshape\\merge.py:703\u001b[0m, in \u001b[0;36m_MergeOperation.__init__\u001b[1;34m(self, left, right, how, on, left_on, right_on, axis, left_index, right_index, sort, suffixes, indicator, validate)\u001b[0m\n\u001b[0;32m    696\u001b[0m \u001b[38;5;28mself\u001b[39m\u001b[38;5;241m.\u001b[39m_cross \u001b[38;5;241m=\u001b[39m cross_col\n\u001b[0;32m    698\u001b[0m \u001b[38;5;66;03m# note this function has side effects\u001b[39;00m\n\u001b[0;32m    699\u001b[0m (\n\u001b[0;32m    700\u001b[0m     \u001b[38;5;28mself\u001b[39m\u001b[38;5;241m.\u001b[39mleft_join_keys,\n\u001b[0;32m    701\u001b[0m     \u001b[38;5;28mself\u001b[39m\u001b[38;5;241m.\u001b[39mright_join_keys,\n\u001b[0;32m    702\u001b[0m     \u001b[38;5;28mself\u001b[39m\u001b[38;5;241m.\u001b[39mjoin_names,\n\u001b[1;32m--> 703\u001b[0m ) \u001b[38;5;241m=\u001b[39m \u001b[38;5;28mself\u001b[39m\u001b[38;5;241m.\u001b[39m_get_merge_keys()\n\u001b[0;32m    705\u001b[0m \u001b[38;5;66;03m# validate the merge keys dtypes. We may need to coerce\u001b[39;00m\n\u001b[0;32m    706\u001b[0m \u001b[38;5;66;03m# to avoid incompatible dtypes\u001b[39;00m\n\u001b[0;32m    707\u001b[0m \u001b[38;5;28mself\u001b[39m\u001b[38;5;241m.\u001b[39m_maybe_coerce_merge_keys()\n",
      "File \u001b[1;32m~\\anaconda3\\Lib\\site-packages\\pandas\\core\\reshape\\merge.py:1162\u001b[0m, in \u001b[0;36m_MergeOperation._get_merge_keys\u001b[1;34m(self)\u001b[0m\n\u001b[0;32m   1160\u001b[0m rk \u001b[38;5;241m=\u001b[39m cast(Hashable, rk)\n\u001b[0;32m   1161\u001b[0m \u001b[38;5;28;01mif\u001b[39;00m rk \u001b[38;5;129;01mis\u001b[39;00m \u001b[38;5;129;01mnot\u001b[39;00m \u001b[38;5;28;01mNone\u001b[39;00m:\n\u001b[1;32m-> 1162\u001b[0m     right_keys\u001b[38;5;241m.\u001b[39mappend(right\u001b[38;5;241m.\u001b[39m_get_label_or_level_values(rk))\n\u001b[0;32m   1163\u001b[0m \u001b[38;5;28;01melse\u001b[39;00m:\n\u001b[0;32m   1164\u001b[0m     \u001b[38;5;66;03m# work-around for merge_asof(right_index=True)\u001b[39;00m\n\u001b[0;32m   1165\u001b[0m     right_keys\u001b[38;5;241m.\u001b[39mappend(right\u001b[38;5;241m.\u001b[39mindex)\n",
      "File \u001b[1;32m~\\anaconda3\\Lib\\site-packages\\pandas\\core\\generic.py:1850\u001b[0m, in \u001b[0;36mNDFrame._get_label_or_level_values\u001b[1;34m(self, key, axis)\u001b[0m\n\u001b[0;32m   1844\u001b[0m     values \u001b[38;5;241m=\u001b[39m (\n\u001b[0;32m   1845\u001b[0m         \u001b[38;5;28mself\u001b[39m\u001b[38;5;241m.\u001b[39maxes[axis]\n\u001b[0;32m   1846\u001b[0m         \u001b[38;5;241m.\u001b[39mget_level_values(key)  \u001b[38;5;66;03m# type: ignore[assignment]\u001b[39;00m\n\u001b[0;32m   1847\u001b[0m         \u001b[38;5;241m.\u001b[39m_values\n\u001b[0;32m   1848\u001b[0m     )\n\u001b[0;32m   1849\u001b[0m \u001b[38;5;28;01melse\u001b[39;00m:\n\u001b[1;32m-> 1850\u001b[0m     \u001b[38;5;28;01mraise\u001b[39;00m \u001b[38;5;167;01mKeyError\u001b[39;00m(key)\n\u001b[0;32m   1852\u001b[0m \u001b[38;5;66;03m# Check for duplicates\u001b[39;00m\n\u001b[0;32m   1853\u001b[0m \u001b[38;5;28;01mif\u001b[39;00m values\u001b[38;5;241m.\u001b[39mndim \u001b[38;5;241m>\u001b[39m \u001b[38;5;241m1\u001b[39m:\n",
      "\u001b[1;31mKeyError\u001b[0m: 'county'"
     ]
    }
   ],
   "source": [
    "# Join on county name\n",
    "electionDF = electionDF.rename(columns={'county': 'County Name'})\n",
    "\n",
    "finalDF = pd.merge(covidDF, electionDF, on='county')\n",
    "#print(finalDF)\n",
    "print(covidDF)\n",
    "#print(electionDF)"
   ]
  },
  {
   "cell_type": "markdown",
   "id": "31a03d76",
   "metadata": {},
   "source": [
    "# Task 3 Report\n",
    "\n",
    "**Calculate COVID-19 data trends for the last week of the data. Are the cases increasing, decreasing, or stable?**\n",
    "\n",
    "*Looking at the week July 17, 2023 to July 23, 2023 it appears that all the days have the same number of confirmed COVID-19 cases. This means the data trend for the last week of the data is stable.*"
   ]
  },
  {
   "cell_type": "code",
   "execution_count": null,
   "id": "51b0c638",
   "metadata": {},
   "outputs": [],
   "source": []
  }
 ],
 "metadata": {
  "kernelspec": {
   "display_name": "Python 3 (ipykernel)",
   "language": "python",
   "name": "python3"
  },
  "language_info": {
   "codemirror_mode": {
    "name": "ipython",
    "version": 3
   },
   "file_extension": ".py",
   "mimetype": "text/x-python",
   "name": "python",
   "nbconvert_exporter": "python",
   "pygments_lexer": "ipython3",
   "version": "3.11.4"
  }
 },
 "nbformat": 4,
 "nbformat_minor": 5
}
