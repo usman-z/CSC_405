{
 "cells": [
  {
   "cell_type": "code",
   "execution_count": 1,
   "id": "9c7e0d11",
   "metadata": {},
   "outputs": [],
   "source": [
    "# Import Pandas\n",
    "import pandas as pd\n",
    "\n",
    "# Load Election dataset\n",
    "electionDF = pd.read_csv('../election_data/president_county_candidate.csv')\n",
    "\n",
    "# Load COVID-19 datasets\n",
    "covidDF = pd.read_csv('../../Team/covid_confirmed_usafacts.csv')"
   ]
  },
  {
   "cell_type": "markdown",
   "id": "2be8e101",
   "metadata": {},
   "source": [
    "## Show head and datatypes of each dataset (president_county_candidate and covid_confirmed_usafacts)"
   ]
  },
  {
   "cell_type": "code",
   "execution_count": 2,
   "id": "9fdaf798",
   "metadata": {},
   "outputs": [
    {
     "name": "stdout",
     "output_type": "stream",
     "text": [
      "Election Data Head:\n",
      "      state             county      candidate party  total_votes    won\n",
      "0  Delaware        Kent County      Joe Biden   DEM        44552   True\n",
      "1  Delaware        Kent County   Donald Trump   REP        41009  False\n",
      "2  Delaware        Kent County   Jo Jorgensen   LIB         1044  False\n",
      "3  Delaware        Kent County  Howie Hawkins   GRN          420  False\n",
      "4  Delaware  New Castle County      Joe Biden   DEM       195034   True\n",
      "\n",
      "Election Datatypes:\n",
      "state          object\n",
      "county         object\n",
      "candidate      object\n",
      "party          object\n",
      "total_votes     int64\n",
      "won              bool\n",
      "dtype: object\n"
     ]
    }
   ],
   "source": [
    "# Print election dataset head\n",
    "print(\"Election Data Head:\")\n",
    "print(electionDF.head())\n",
    "\n",
    "print()\n",
    "\n",
    "# Print the election dataset column types\n",
    "print(\"Election Datatypes:\")\n",
    "print(electionDF.dtypes)"
   ]
  },
  {
   "cell_type": "code",
   "execution_count": 3,
   "id": "6ba4c9fb",
   "metadata": {},
   "outputs": [
    {
     "name": "stdout",
     "output_type": "stream",
     "text": [
      "COVID-19 Data Head:\n",
      "   countyFIPS            County Name State  StateFIPS  2020-01-22  2020-01-23  \\\n",
      "0           0  Statewide Unallocated    AL          1           0           0   \n",
      "1        1001        Autauga County     AL          1           0           0   \n",
      "2        1003        Baldwin County     AL          1           0           0   \n",
      "3        1005        Barbour County     AL          1           0           0   \n",
      "4        1007           Bibb County     AL          1           0           0   \n",
      "\n",
      "   2020-01-24  2020-01-25  2020-01-26  2020-01-27  ...  2023-07-14  \\\n",
      "0           0           0           0           0  ...           0   \n",
      "1           0           0           0           0  ...       19913   \n",
      "2           0           0           0           0  ...       70521   \n",
      "3           0           0           0           0  ...        7582   \n",
      "4           0           0           0           0  ...        8149   \n",
      "\n",
      "   2023-07-15  2023-07-16  2023-07-17  2023-07-18  2023-07-19  2023-07-20  \\\n",
      "0           0           0           0           0           0           0   \n",
      "1       19913       19913       19913       19913       19913       19913   \n",
      "2       70521       70521       70521       70521       70521       70521   \n",
      "3        7582        7582        7582        7582        7582        7582   \n",
      "4        8149        8149        8149        8149        8149        8149   \n",
      "\n",
      "   2023-07-21  2023-07-22  2023-07-23  \n",
      "0           0           0           0  \n",
      "1       19913       19913       19913  \n",
      "2       70521       70521       70521  \n",
      "3        7582        7582        7582  \n",
      "4        8149        8149        8149  \n",
      "\n",
      "[5 rows x 1269 columns]\n",
      "\n",
      "COVID-19 Datatypes:\n",
      "countyFIPS      int64\n",
      "County Name    object\n",
      "State          object\n",
      "StateFIPS       int64\n",
      "2020-01-22      int64\n",
      "                ...  \n",
      "2023-07-19      int64\n",
      "2023-07-20      int64\n",
      "2023-07-21      int64\n",
      "2023-07-22      int64\n",
      "2023-07-23      int64\n",
      "Length: 1269, dtype: object\n"
     ]
    }
   ],
   "source": [
    "# Print COVID-19 dataset head\n",
    "print(\"COVID-19 Data Head:\")\n",
    "print(covidDF.head())\n",
    "\n",
    "print()\n",
    "\n",
    "# Print COVID-19 dataset column types\n",
    "print(\"COVID-19 Datatypes:\")\n",
    "print(covidDF.dtypes)"
   ]
  },
  {
   "cell_type": "markdown",
   "id": "8b1ba75f",
   "metadata": {},
   "source": [
    "## Calculate COVID-19 data trends for the last week of the data\n",
    "**State Chosen: Florida (FL)**"
   ]
  },
  {
   "cell_type": "code",
   "execution_count": 4,
   "id": "9aa1f6b1",
   "metadata": {},
   "outputs": [
    {
     "name": "stdout",
     "output_type": "stream",
     "text": [
      "2023-07-17    7627999\n",
      "2023-07-18    7627999\n",
      "2023-07-19    7627999\n",
      "2023-07-20    7627999\n",
      "2023-07-21    7627999\n",
      "2023-07-22    7627999\n",
      "2023-07-23    7627999\n",
      "dtype: int64\n"
     ]
    }
   ],
   "source": [
    "# Show the case data for the last week for the state of Florida\n",
    "florida_data = covidDF.loc[covidDF['State'] == 'FL']\n",
    "florida_data.head()\n",
    "\n",
    "# Get the last 7 days of the florida data\n",
    "week_data = florida_data.iloc[:, -7:]\n",
    "#print(week_data)\n",
    "\n",
    "# Get the sum of each day\n",
    "week_sum = week_data.sum()\n",
    "print(week_sum)"
   ]
  },
  {
   "cell_type": "code",
   "execution_count": 5,
   "id": "48189101",
   "metadata": {},
   "outputs": [
    {
     "name": "stdout",
     "output_type": "stream",
     "text": [
      "Empty DataFrame\n",
      "Columns: [countyFIPS, County Name, State, StateFIPS, 2020-01-22, 2020-01-23, 2020-01-24, 2020-01-25, 2020-01-26, 2020-01-27, 2020-01-28, 2020-01-29, 2020-01-30, 2020-01-31, 2020-02-01, 2020-02-02, 2020-02-03, 2020-02-04, 2020-02-05, 2020-02-06, 2020-02-07, 2020-02-08, 2020-02-09, 2020-02-10, 2020-02-11, 2020-02-12, 2020-02-13, 2020-02-14, 2020-02-15, 2020-02-16, 2020-02-17, 2020-02-18, 2020-02-19, 2020-02-20, 2020-02-21, 2020-02-22, 2020-02-23, 2020-02-24, 2020-02-25, 2020-02-26, 2020-02-27, 2020-02-28, 2020-02-29, 2020-03-01, 2020-03-02, 2020-03-03, 2020-03-04, 2020-03-05, 2020-03-06, 2020-03-07, 2020-03-08, 2020-03-09, 2020-03-10, 2020-03-11, 2020-03-12, 2020-03-13, 2020-03-14, 2020-03-15, 2020-03-16, 2020-03-17, 2020-03-18, 2020-03-19, 2020-03-20, 2020-03-21, 2020-03-22, 2020-03-23, 2020-03-24, 2020-03-25, 2020-03-26, 2020-03-27, 2020-03-28, 2020-03-29, 2020-03-30, 2020-03-31, 2020-04-01, 2020-04-02, 2020-04-03, 2020-04-04, 2020-04-05, 2020-04-06, 2020-04-07, 2020-04-08, 2020-04-09, 2020-04-10, 2020-04-11, 2020-04-12, 2020-04-13, 2020-04-14, 2020-04-15, 2020-04-16, 2020-04-17, 2020-04-18, 2020-04-19, 2020-04-20, 2020-04-21, 2020-04-22, 2020-04-23, 2020-04-24, 2020-04-25, 2020-04-26, ...]\n",
      "Index: []\n",
      "\n",
      "[0 rows x 1274 columns]\n"
     ]
    }
   ],
   "source": [
    "# Rename 'county' to 'County Name' to match COVID-19 column title\n",
    "electionDF = electionDF.rename(columns={'county': 'County Name'})\n",
    "\n",
    "# Join on 'County Name' column\n",
    "finalDF = pd.merge(covidDF, electionDF, on='County Name')\n",
    "print(finalDF)"
   ]
  },
  {
   "cell_type": "markdown",
   "id": "31a03d76",
   "metadata": {},
   "source": [
    "# Task 3 Report\n",
    "\n",
    "**Calculate COVID-19 data trends for the last week of the data. Are the cases increasing, decreasing, or stable?**\n",
    "\n",
    "*Looking at the week July 17, 2023 to July 23, 2023 it appears that all the days have the same number of confirmed COVID-19 cases. This means the data trend for the last week of the data is stable.*"
   ]
  },
  {
   "cell_type": "code",
   "execution_count": null,
   "id": "51b0c638",
   "metadata": {},
   "outputs": [],
   "source": []
  }
 ],
 "metadata": {
  "kernelspec": {
   "display_name": "Python 3 (ipykernel)",
   "language": "python",
   "name": "python3"
  },
  "language_info": {
   "codemirror_mode": {
    "name": "ipython",
    "version": 3
   },
   "file_extension": ".py",
   "mimetype": "text/x-python",
   "name": "python",
   "nbconvert_exporter": "python",
   "pygments_lexer": "ipython3",
   "version": "3.11.4"
  }
 },
 "nbformat": 4,
 "nbformat_minor": 5
}
