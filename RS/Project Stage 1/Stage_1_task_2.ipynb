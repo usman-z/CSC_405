{
 "cells": [
  {
   "cell_type": "markdown",
   "metadata": {},
   "source": [
    "# Analyzing the dataset to find the data"
   ]
  },
  {
   "cell_type": "markdown",
   "metadata": {},
   "source": [
    "## Variable Dictionary for Census\n",
    "#### Section in the report describing the COVID-19 dataset and datatype - variable dictionary"
   ]
  },
  {
   "cell_type": "markdown",
   "metadata": {},
   "source": [
    "|    Name               | Definition| Data type | Possible values | Required? |\n",
    "|:---------------------:|:---------:|:---------:|:---------------:|:---------:|\n",
    "| Label             | A label that is used to describe the row | String | Total population, Male, Female            | Yes       |\n",
    "| Estimate                    | The estimate for the label | Float/Integer   | 327,167,439, 161,118,151, 97.0                     | Yes        |\n",
    "| Margin of Error                  | potential margin of error of the estimate | Float/Integer   | +=27,812, +=0.1, null                   | Yes\n",
    "| Percent                  | Percentage of the label | Float   | null, 6.0%, 13.9%                   | Yes\n",
    "| Percent of Margin of Error | Percentage of the margin of error | Float   | 0.1, null                   | Yes"
   ]
  },
  {
   "cell_type": "markdown",
   "metadata": {},
   "source": [
    "#### How to merge the enrichment dataset ( US Census ) with the COVID-19 dataset"
   ]
  },
  {
   "cell_type": "markdown",
   "metadata": {},
   "source": [
    "First we would have to clean up the county's and then merge on that key to the original covid-19 dataframe"
   ]
  },
  {
   "cell_type": "markdown",
   "metadata": {},
   "source": [
    "#### Describe how your enrichment data can help in the analysis of COVID-19 spread. Pose initial hypothesis questions."
   ]
  },
  {
   "cell_type": "markdown",
   "metadata": {},
   "source": [
    "We can get a ratio between the two and use for comparisons in the future to the actual population.\n",
    "\n",
    "Hypothesis: Larger Populations in the United States had increased a linear or exponential increase of cases over time."
   ]
  }
 ],
 "metadata": {
  "kernelspec": {
   "display_name": "testEnv",
   "language": "python",
   "name": "testenv"
  },
  "language_info": {
   "codemirror_mode": {
    "name": "ipython",
    "version": 3
   },
   "file_extension": ".py",
   "mimetype": "text/x-python",
   "name": "python",
   "nbconvert_exporter": "python",
   "pygments_lexer": "ipython3",
   "version": "3.10.5"
  },
  "orig_nbformat": 4
 },
 "nbformat": 4,
 "nbformat_minor": 2
}
